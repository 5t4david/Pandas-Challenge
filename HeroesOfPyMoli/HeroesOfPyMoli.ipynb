{
 "cells": [
  {
   "cell_type": "code",
   "execution_count": 864,
   "metadata": {},
   "outputs": [],
   "source": [
    "import os\n",
    "import csv\n",
    "import pandas as pd"
   ]
  },
  {
   "cell_type": "code",
   "execution_count": 865,
   "metadata": {},
   "outputs": [],
   "source": [
    "csvpath = os.path.join('..', 'HeroesOfPyMoli', 'purchase_data.csv')"
   ]
  },
  {
   "cell_type": "code",
   "execution_count": 866,
   "metadata": {},
   "outputs": [],
   "source": [
    "with open(csvpath) as csvfile:\n",
    "    csvreader2 = csv.reader(csvfile, delimiter=',')\n",
    "    for row in csvreader2:\n",
    "        pmoli = pd.DataFrame(csvreader2, columns = ['Purchase ID','SN','Age','Gender','Item ID','Item Name','Price'])"
   ]
  },
  {
   "cell_type": "code",
   "execution_count": 867,
   "metadata": {
    "scrolled": true
   },
   "outputs": [
    {
     "data": {
      "text/html": [
       "<div>\n",
       "<style scoped>\n",
       "    .dataframe tbody tr th:only-of-type {\n",
       "        vertical-align: middle;\n",
       "    }\n",
       "\n",
       "    .dataframe tbody tr th {\n",
       "        vertical-align: top;\n",
       "    }\n",
       "\n",
       "    .dataframe thead th {\n",
       "        text-align: right;\n",
       "    }\n",
       "</style>\n",
       "<table border=\"1\" class=\"dataframe\">\n",
       "  <thead>\n",
       "    <tr style=\"text-align: right;\">\n",
       "      <th></th>\n",
       "      <th>Purchase ID</th>\n",
       "      <th>SN</th>\n",
       "      <th>Age</th>\n",
       "      <th>Gender</th>\n",
       "      <th>Item ID</th>\n",
       "      <th>Item Name</th>\n",
       "      <th>Price</th>\n",
       "    </tr>\n",
       "  </thead>\n",
       "  <tbody>\n",
       "    <tr>\n",
       "      <th>0</th>\n",
       "      <td>0</td>\n",
       "      <td>Lisim78</td>\n",
       "      <td>20</td>\n",
       "      <td>Male</td>\n",
       "      <td>108</td>\n",
       "      <td>Extraction, Quickblade Of Trembling Hands</td>\n",
       "      <td>3.53</td>\n",
       "    </tr>\n",
       "    <tr>\n",
       "      <th>1</th>\n",
       "      <td>1</td>\n",
       "      <td>Lisovynya38</td>\n",
       "      <td>40</td>\n",
       "      <td>Male</td>\n",
       "      <td>143</td>\n",
       "      <td>Frenzied Scimitar</td>\n",
       "      <td>1.56</td>\n",
       "    </tr>\n",
       "    <tr>\n",
       "      <th>2</th>\n",
       "      <td>2</td>\n",
       "      <td>Ithergue48</td>\n",
       "      <td>24</td>\n",
       "      <td>Male</td>\n",
       "      <td>92</td>\n",
       "      <td>Final Critic</td>\n",
       "      <td>4.88</td>\n",
       "    </tr>\n",
       "    <tr>\n",
       "      <th>3</th>\n",
       "      <td>3</td>\n",
       "      <td>Chamassasya86</td>\n",
       "      <td>24</td>\n",
       "      <td>Male</td>\n",
       "      <td>100</td>\n",
       "      <td>Blindscythe</td>\n",
       "      <td>3.27</td>\n",
       "    </tr>\n",
       "    <tr>\n",
       "      <th>4</th>\n",
       "      <td>4</td>\n",
       "      <td>Iskosia90</td>\n",
       "      <td>23</td>\n",
       "      <td>Male</td>\n",
       "      <td>131</td>\n",
       "      <td>Fury</td>\n",
       "      <td>1.44</td>\n",
       "    </tr>\n",
       "  </tbody>\n",
       "</table>\n",
       "</div>"
      ],
      "text/plain": [
       "  Purchase ID             SN Age Gender Item ID  \\\n",
       "0           0        Lisim78  20   Male     108   \n",
       "1           1    Lisovynya38  40   Male     143   \n",
       "2           2     Ithergue48  24   Male      92   \n",
       "3           3  Chamassasya86  24   Male     100   \n",
       "4           4      Iskosia90  23   Male     131   \n",
       "\n",
       "                                   Item Name Price  \n",
       "0  Extraction, Quickblade Of Trembling Hands  3.53  \n",
       "1                          Frenzied Scimitar  1.56  \n",
       "2                               Final Critic  4.88  \n",
       "3                                Blindscythe  3.27  \n",
       "4                                       Fury  1.44  "
      ]
     },
     "execution_count": 867,
     "metadata": {},
     "output_type": "execute_result"
    }
   ],
   "source": [
    "pmoli.head()"
   ]
  },
  {
   "cell_type": "code",
   "execution_count": 868,
   "metadata": {
    "scrolled": true
   },
   "outputs": [],
   "source": [
    "total_player = (len(pmoli.iloc[:,1].unique()))\n",
    "total_game = (len(pmoli.iloc[:,4].unique()))\n",
    "pmoli.loc[:,\"Price\"] = pmoli[\"Price\"].astype(\"float\")\n",
    "avr_price = (\"{:.2f}\".format(pmoli[\"Price\"].mean()))\n",
    "pmoli_purchase = (len(pmoli))\n",
    "pmoli_revenue = (\"{:.2f}\".format(pmoli[\"Price\"].sum()))"
   ]
  },
  {
   "cell_type": "code",
   "execution_count": 869,
   "metadata": {},
   "outputs": [],
   "source": [
    "pmoli_male_df = pmoli.loc[pmoli[\"Gender\"] == \"Male\"]\n",
    "male_player = (len(pmoli_male_df.iloc[:,1].unique()))\n",
    "percent_male = (\"{:.2f}\".format((int(male_player)/int(total_player))*100))\n",
    "pmoli_female_df = pmoli.loc[pmoli[\"Gender\"] == \"Female\"]\n",
    "female_player = (len(pmoli_female_df.iloc[:,1].unique()))\n",
    "percent_female = (\"{:.2f}\".format((int(female_player)/int(total_player))*100))\n",
    "pmoli_unknown_df = pmoli.loc[pmoli[\"Gender\"] == \"Other / Non-Disclosed\"]\n",
    "unknown_player = (len(pmoli_unknown_df.iloc[:,1].unique()))\n",
    "percent_unknown = (\"{:.2f}\".format((int(pmoli_unknown)/int(total_player))*100))"
   ]
  },
  {
   "cell_type": "code",
   "execution_count": 870,
   "metadata": {},
   "outputs": [],
   "source": [
    "male_purchase = (len(pmoli_male_df))\n",
    "male_avr = (\"{:.2f}\".format(pmoli_male_df[\"Price\"].mean()))\n",
    "male_revenue = (\"{:.2f}\".format(pmoli_male_df[\"Price\"].sum()))\n",
    "avr_pur_male = (\"{:.2f}\".format(male_purchase/male_player))\n",
    "female_purchase = (len(pmoli_female_df))\n",
    "female_avr = (\"{:.2f}\".format(pmoli_female_df[\"Price\"].mean()))\n",
    "female_revenue = (\"{:.2f}\".format(pmoli_female_df[\"Price\"].sum()))\n",
    "avr_pur_female = (\"{:.2f}\".format(female_purchase/female_player))\n",
    "unknown_purchase = (len(pmoli_unknown_df))\n",
    "unknown_avr = (\"{:.2f}\".format(pmoli_unknown_df[\"Price\"].mean()))\n",
    "unknown_revenue = (\"{:.2f}\".format(pmoli_unknown_df[\"Price\"].sum()))\n",
    "avr_pur_unknown = (\"{:.2f}\".format(unknown_purchase/unknown_player))"
   ]
  },
  {
   "cell_type": "code",
   "execution_count": 871,
   "metadata": {},
   "outputs": [
    {
     "name": "stdout",
     "output_type": "stream",
     "text": [
      "PURCHASING ANALYSIS\n",
      "-------------------\n",
      "Total number of players is 576\n",
      "Number of items is 179\n",
      "Average price is $3.05\n",
      "Total purchase is 780\n",
      "Total revenue is $2379.77\n",
      "__________________________________________________________________________________\n",
      "GENDER DEMOGRAPHICS\n",
      "-------------------\n",
      "Total number of male players is 484 (84.03%)\n",
      "Total number of female players is 81 (14.06%)\n",
      "Total number of unknown gender is 11 (2.60%)\n",
      "__________________________________________________________________________________\n",
      "PURCHASING ANALYSIS(GENDER)\n",
      "---------------------------\n",
      "Total purchase by male players is 652\n",
      "Average purchase price per male player is $3.02\n",
      "Total revenue from male players is $1967.64\n",
      "Average purchase per male players is 1.35 games\n",
      "---------------------------\n",
      "Total purchase by female players is 113\n",
      "Average purchase price per female player is $3.20\n",
      "Total revenue from female players is $361.94\n",
      "Average purchase per female players is 1.40 games\n",
      "---------------------------\n",
      "Total purchase by unknown players is 15\n",
      "Average purchase price per unknown player is $3.35\n",
      "Total revenue from unknown players is $50.19\n",
      "Average purchase per unknown players is 1.36 games\n"
     ]
    }
   ],
   "source": [
    "print(\"PURCHASING ANALYSIS\")\n",
    "print(\"-------------------\")\n",
    "print(\"Total number of players is \" + str(total_player))\n",
    "print(\"Number of items is \" + str(total_game))\n",
    "print(\"Average price is $\" + str(avr_price))\n",
    "print(\"Total purchase is \" + str(pmoli_purchase))\n",
    "print(\"Total revenue is $\" + str(pmoli_revenue))\n",
    "print(\"__________________________________________________________________________________\")\n",
    "print(\"GENDER DEMOGRAPHICS\")\n",
    "print(\"-------------------\")\n",
    "print(\"Total number of male players is \" + str(male_player) + \" (\" + percent_male + \"%)\")\n",
    "print(\"Total number of female players is \" + str(female_player) + \" (\" + percent_female + \"%)\")\n",
    "print(\"Total number of unknown gender is \" + str(unknown_player) + \" (\" + percent_unknown + \"%)\")\n",
    "print(\"__________________________________________________________________________________\")\n",
    "print(\"PURCHASING ANALYSIS(GENDER)\")\n",
    "print(\"---------------------------\")\n",
    "print(\"Total purchase by male players is \" + str(male_purchase))\n",
    "print(\"Average purchase price per male player is $\" + str(male_avr))\n",
    "print(\"Total revenue from male players is $\" + str(male_revenue))\n",
    "print(\"Average purchase per male players is \" + str(avr_pur_male) + \" games\")\n",
    "print(\"---------------------------\")\n",
    "print(\"Total purchase by female players is \" + str(female_purchase))\n",
    "print(\"Average purchase price per female player is $\" + str(female_avr))\n",
    "print(\"Total revenue from female players is $\" + str(female_revenue))\n",
    "print(\"Average purchase per female players is \" + str(avr_pur_female) + \" games\")\n",
    "print(\"---------------------------\")\n",
    "print(\"Total purchase by unknown players is \" + str(unknown_purchase))\n",
    "print(\"Average purchase price per unknown player is $\" + str(unknown_avr))\n",
    "print(\"Total revenue from unknown players is $\" + str(unknown_revenue))\n",
    "print(\"Average purchase per unknown players is \" + str(avr_pur_unknown) + \" games\")"
   ]
  },
  {
   "cell_type": "code",
   "execution_count": null,
   "metadata": {},
   "outputs": [],
   "source": []
  }
 ],
 "metadata": {
  "kernelspec": {
   "display_name": "Python 3",
   "language": "python",
   "name": "python3"
  },
  "language_info": {
   "codemirror_mode": {
    "name": "ipython",
    "version": 3
   },
   "file_extension": ".py",
   "mimetype": "text/x-python",
   "name": "python",
   "nbconvert_exporter": "python",
   "pygments_lexer": "ipython3",
   "version": "3.8.5"
  }
 },
 "nbformat": 4,
 "nbformat_minor": 4
}
