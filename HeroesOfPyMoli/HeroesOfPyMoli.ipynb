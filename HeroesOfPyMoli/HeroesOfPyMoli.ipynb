{
 "cells": [
  {
   "cell_type": "code",
   "execution_count": 3620,
   "metadata": {},
   "outputs": [],
   "source": [
    "import os\n",
    "import csv\n",
    "import pandas as pd\n",
    "import numpy as np"
   ]
  },
  {
   "cell_type": "code",
   "execution_count": 3621,
   "metadata": {},
   "outputs": [],
   "source": [
    "csvpath = os.path.join('..', 'HeroesOfPyMoli', 'purchase_data.csv')"
   ]
  },
  {
   "cell_type": "code",
   "execution_count": 3622,
   "metadata": {},
   "outputs": [],
   "source": [
    "with open(csvpath) as csvfile:\n",
    "    csvreader2 = csv.reader(csvfile, delimiter=',')\n",
    "    for row in csvreader2:\n",
    "        pmoli = pd.DataFrame(csvreader2, columns = ['Purchase ID','SN','Age','Gender','Item ID','Item Name','Price'])"
   ]
  },
  {
   "cell_type": "code",
   "execution_count": 3623,
   "metadata": {
    "scrolled": true
   },
   "outputs": [],
   "source": [
    "total_player = (len(pmoli.iloc[:,1].unique()))\n",
    "total_game = (len(pmoli.iloc[:,4].unique()))\n",
    "pmoli.loc[:,\"Price\"] = pmoli[\"Price\"].astype(\"float\")\n",
    "pmoli.loc[:,\"Age\"] = pmoli[\"Age\"].astype(\"int\")\n",
    "avr_price = ('${0:,.2f}'.format(pmoli[\"Price\"].mean()))\n",
    "pmoli_purchase = (len(pmoli))\n",
    "pmoli_revenue = ('${0:,.2f}'.format(pmoli[\"Price\"].sum()))"
   ]
  },
  {
   "cell_type": "code",
   "execution_count": 3624,
   "metadata": {},
   "outputs": [],
   "source": [
    "pmoli_male_df = pmoli.loc[pmoli[\"Gender\"] == \"Male\"]\n",
    "male_player = (len(pmoli_male_df.iloc[:,1].unique()))\n",
    "percent_male = (\"{:.2f}\".format((int(male_player)/int(total_player))*100))\n",
    "pmoli_female_df = pmoli.loc[pmoli[\"Gender\"] == \"Female\"]\n",
    "female_player = (len(pmoli_female_df.iloc[:,1].unique()))\n",
    "percent_female = (\"{:.2f}\".format((int(female_player)/int(total_player))*100))\n",
    "pmoli_unknown_df = pmoli.loc[pmoli[\"Gender\"] == \"Other / Non-Disclosed\"]\n",
    "unknown_player = (len(pmoli_unknown_df.iloc[:,1].unique()))\n",
    "percent_unknown = (\"{:.2f}\".format((int(pmoli_unknown)/int(total_player))*100))"
   ]
  },
  {
   "cell_type": "code",
   "execution_count": 3625,
   "metadata": {},
   "outputs": [],
   "source": [
    "male_purchase = (len(pmoli_male_df))\n",
    "male_avr = (pmoli_male_df[\"Price\"].mean())\n",
    "male_revenue = (pmoli_male_df[\"Price\"].sum())\n",
    "avr_pur_male = ((male_purchase/male_player)*male_avr)\n",
    "female_purchase = (len(pmoli_female_df))\n",
    "female_avr = (pmoli_female_df[\"Price\"].mean())\n",
    "female_revenue = (pmoli_female_df[\"Price\"].sum())\n",
    "avr_pur_female = ((female_purchase/female_player)*female_avr)\n",
    "unknown_purchase = (len(pmoli_unknown_df))\n",
    "unknown_avr = (pmoli_unknown_df[\"Price\"].mean())\n",
    "unknown_revenue = (pmoli_unknown_df[\"Price\"].sum())\n",
    "avr_pur_unknown = ((unknown_purchase/unknown_player)*unknown_avr)"
   ]
  },
  {
   "cell_type": "code",
   "execution_count": 3626,
   "metadata": {},
   "outputs": [],
   "source": [
    "bins = [0,9,14,19,24,29,34,39,44]\n",
    "group_labels = [\"<10\",\"10-14\",\"15-19\",\"20-24\",\"25-29\",\"30-34\",\"35-39\",\">40\"]"
   ]
  },
  {
   "cell_type": "code",
   "execution_count": 3627,
   "metadata": {},
   "outputs": [],
   "source": [
    "pmoli[\"Age Bracket\"] = pd.cut(pmoli[\"Age\"], bins, labels= group_labels, include_lowest=True)\n",
    "pmoli_group = pmoli.groupby('Age Bracket')\n",
    "purchase_count = pd.DataFrame(pmoli_group[\"SN\"].count())\n",
    "purchase_df = purchase_count.rename(columns={\"SN\":\"Purchase Count\"})\n",
    "mean_price = pd.DataFrame(pmoli_group[\"Price\"].mean())\n",
    "mean_df = mean_price.rename(columns={\"Price\":\"Average Purchase Price\"})\n",
    "sum_price = pd.DataFrame(pmoli_group[\"Price\"].sum())\n",
    "sum_df = sum_price.rename(columns={\"Price\":\"Total Purchase Value\"})\n",
    "player_count = pd.DataFrame(pmoli_group[\"SN\"].nunique())\n",
    "player_ct = player_count.rename(columns={player_count.columns[0]:\"Total Player\"})\n",
    "avr_pur_group = pd.DataFrame((sum_price.iloc[:,0])/(player_count.iloc[:,0]))\n",
    "player_df = avr_pur_group.rename(columns={avr_pur_group.columns[0]:\"Average Total Per Player\"})"
   ]
  },
  {
   "cell_type": "code",
   "execution_count": 3628,
   "metadata": {},
   "outputs": [
    {
     "data": {
      "text/html": [
       "<div>\n",
       "<style scoped>\n",
       "    .dataframe tbody tr th:only-of-type {\n",
       "        vertical-align: middle;\n",
       "    }\n",
       "\n",
       "    .dataframe tbody tr th {\n",
       "        vertical-align: top;\n",
       "    }\n",
       "\n",
       "    .dataframe thead th {\n",
       "        text-align: right;\n",
       "    }\n",
       "</style>\n",
       "<table border=\"1\" class=\"dataframe\">\n",
       "  <thead>\n",
       "    <tr style=\"text-align: right;\">\n",
       "      <th></th>\n",
       "      <th>Purchase ID</th>\n",
       "      <th>SN</th>\n",
       "      <th>Age</th>\n",
       "      <th>Gender</th>\n",
       "      <th>Item ID</th>\n",
       "      <th>Item Name</th>\n",
       "      <th>Price</th>\n",
       "      <th>Age Bracket</th>\n",
       "    </tr>\n",
       "  </thead>\n",
       "  <tbody>\n",
       "    <tr>\n",
       "      <th>0</th>\n",
       "      <td>0</td>\n",
       "      <td>Lisim78</td>\n",
       "      <td>20</td>\n",
       "      <td>Male</td>\n",
       "      <td>108</td>\n",
       "      <td>Extraction, Quickblade Of Trembling Hands</td>\n",
       "      <td>3.53</td>\n",
       "      <td>20-24</td>\n",
       "    </tr>\n",
       "    <tr>\n",
       "      <th>1</th>\n",
       "      <td>1</td>\n",
       "      <td>Lisovynya38</td>\n",
       "      <td>40</td>\n",
       "      <td>Male</td>\n",
       "      <td>143</td>\n",
       "      <td>Frenzied Scimitar</td>\n",
       "      <td>1.56</td>\n",
       "      <td>&gt;40</td>\n",
       "    </tr>\n",
       "    <tr>\n",
       "      <th>2</th>\n",
       "      <td>2</td>\n",
       "      <td>Ithergue48</td>\n",
       "      <td>24</td>\n",
       "      <td>Male</td>\n",
       "      <td>92</td>\n",
       "      <td>Final Critic</td>\n",
       "      <td>4.88</td>\n",
       "      <td>20-24</td>\n",
       "    </tr>\n",
       "    <tr>\n",
       "      <th>3</th>\n",
       "      <td>3</td>\n",
       "      <td>Chamassasya86</td>\n",
       "      <td>24</td>\n",
       "      <td>Male</td>\n",
       "      <td>100</td>\n",
       "      <td>Blindscythe</td>\n",
       "      <td>3.27</td>\n",
       "      <td>20-24</td>\n",
       "    </tr>\n",
       "    <tr>\n",
       "      <th>4</th>\n",
       "      <td>4</td>\n",
       "      <td>Iskosia90</td>\n",
       "      <td>23</td>\n",
       "      <td>Male</td>\n",
       "      <td>131</td>\n",
       "      <td>Fury</td>\n",
       "      <td>1.44</td>\n",
       "      <td>20-24</td>\n",
       "    </tr>\n",
       "  </tbody>\n",
       "</table>\n",
       "</div>"
      ],
      "text/plain": [
       "  Purchase ID             SN  Age Gender Item ID  \\\n",
       "0           0        Lisim78   20   Male     108   \n",
       "1           1    Lisovynya38   40   Male     143   \n",
       "2           2     Ithergue48   24   Male      92   \n",
       "3           3  Chamassasya86   24   Male     100   \n",
       "4           4      Iskosia90   23   Male     131   \n",
       "\n",
       "                                   Item Name  Price Age Bracket  \n",
       "0  Extraction, Quickblade Of Trembling Hands   3.53       20-24  \n",
       "1                          Frenzied Scimitar   1.56         >40  \n",
       "2                               Final Critic   4.88       20-24  \n",
       "3                                Blindscythe   3.27       20-24  \n",
       "4                                       Fury   1.44       20-24  "
      ]
     },
     "execution_count": 3628,
     "metadata": {},
     "output_type": "execute_result"
    }
   ],
   "source": [
    "Age_dm = pd.DataFrame(((player_count.iloc[:,0])/(total_player))*100)\n",
    "Age_demo = Age_dm.rename(columns={Age_dm.columns[0]:\"Percentage of Players\"})\n",
    "pmoli.head()"
   ]
  },
  {
   "cell_type": "code",
   "execution_count": 3689,
   "metadata": {},
   "outputs": [
    {
     "data": {
      "text/html": [
       "<style  type=\"text/css\" >\n",
       "</style><table id=\"T_f38c3c03_a843_11eb_bc3e_b5209453efc2\" ><thead>    <tr>        <th class=\"col_heading level0 col0\" >SN</th>        <th class=\"col_heading level0 col1\" >Purchase Count</th>        <th class=\"col_heading level0 col2\" >Average Purchase Price</th>        <th class=\"col_heading level0 col3\" >Total Purchase Value</th>    </tr></thead><tbody>\n",
       "                <tr>\n",
       "                                <td id=\"T_f38c3c03_a843_11eb_bc3e_b5209453efc2row0_col0\" class=\"data row0 col0\" >Lisosia93</td>\n",
       "                        <td id=\"T_f38c3c03_a843_11eb_bc3e_b5209453efc2row0_col1\" class=\"data row0 col1\" >5</td>\n",
       "                        <td id=\"T_f38c3c03_a843_11eb_bc3e_b5209453efc2row0_col2\" class=\"data row0 col2\" >$3.79</td>\n",
       "                        <td id=\"T_f38c3c03_a843_11eb_bc3e_b5209453efc2row0_col3\" class=\"data row0 col3\" >$18.96</td>\n",
       "            </tr>\n",
       "            <tr>\n",
       "                                <td id=\"T_f38c3c03_a843_11eb_bc3e_b5209453efc2row1_col0\" class=\"data row1 col0\" >Idastidru52</td>\n",
       "                        <td id=\"T_f38c3c03_a843_11eb_bc3e_b5209453efc2row1_col1\" class=\"data row1 col1\" >4</td>\n",
       "                        <td id=\"T_f38c3c03_a843_11eb_bc3e_b5209453efc2row1_col2\" class=\"data row1 col2\" >$3.86</td>\n",
       "                        <td id=\"T_f38c3c03_a843_11eb_bc3e_b5209453efc2row1_col3\" class=\"data row1 col3\" >$15.45</td>\n",
       "            </tr>\n",
       "            <tr>\n",
       "                                <td id=\"T_f38c3c03_a843_11eb_bc3e_b5209453efc2row2_col0\" class=\"data row2 col0\" >Chamjask73</td>\n",
       "                        <td id=\"T_f38c3c03_a843_11eb_bc3e_b5209453efc2row2_col1\" class=\"data row2 col1\" >3</td>\n",
       "                        <td id=\"T_f38c3c03_a843_11eb_bc3e_b5209453efc2row2_col2\" class=\"data row2 col2\" >$4.61</td>\n",
       "                        <td id=\"T_f38c3c03_a843_11eb_bc3e_b5209453efc2row2_col3\" class=\"data row2 col3\" >$13.83</td>\n",
       "            </tr>\n",
       "            <tr>\n",
       "                                <td id=\"T_f38c3c03_a843_11eb_bc3e_b5209453efc2row3_col0\" class=\"data row3 col0\" >Iral74</td>\n",
       "                        <td id=\"T_f38c3c03_a843_11eb_bc3e_b5209453efc2row3_col1\" class=\"data row3 col1\" >4</td>\n",
       "                        <td id=\"T_f38c3c03_a843_11eb_bc3e_b5209453efc2row3_col2\" class=\"data row3 col2\" >$3.40</td>\n",
       "                        <td id=\"T_f38c3c03_a843_11eb_bc3e_b5209453efc2row3_col3\" class=\"data row3 col3\" >$13.62</td>\n",
       "            </tr>\n",
       "            <tr>\n",
       "                                <td id=\"T_f38c3c03_a843_11eb_bc3e_b5209453efc2row4_col0\" class=\"data row4 col0\" >Iskadarya95</td>\n",
       "                        <td id=\"T_f38c3c03_a843_11eb_bc3e_b5209453efc2row4_col1\" class=\"data row4 col1\" >3</td>\n",
       "                        <td id=\"T_f38c3c03_a843_11eb_bc3e_b5209453efc2row4_col2\" class=\"data row4 col2\" >$4.37</td>\n",
       "                        <td id=\"T_f38c3c03_a843_11eb_bc3e_b5209453efc2row4_col3\" class=\"data row4 col3\" >$13.10</td>\n",
       "            </tr>\n",
       "    </tbody></table>"
      ],
      "text/plain": [
       "<pandas.io.formats.style.Styler at 0x2ce6d9a1a00>"
      ]
     },
     "execution_count": 3689,
     "metadata": {},
     "output_type": "execute_result"
    }
   ],
   "source": [
    "top_s = pmoli.groupby([\"SN\",]).Price.sum().reset_index()\n",
    "top_c = pd.DataFrame(pmoli['SN'].value_counts()).reset_index()\n",
    "top_c_rn = top_c.rename(columns={top_c.columns[0]:\"SN\",top_c.columns[1]:\"Purchase Count\"})\n",
    "top_cs = pd.merge(top_s,top_c_rn, on = 'SN')\n",
    "avr_spd = (top_cs['Price'])/(top_cs['Purchase Count'])\n",
    "top_cs['Average Purchase Price'] = avr_spd\n",
    "top_spdr = top_cs[['SN','Purchase Count','Average Purchase Price','Price']]\n",
    "top_spend = top_spdr.rename(columns={top_spdr.columns[3]: 'Total Purchase Value'})\n",
    "top_spender = top_spend.sort_values('Total Purchase Value', ascending=False)\n",
    "top_spender.head(5).style.format(format_dict).hide_index()"
   ]
  },
  {
   "cell_type": "code",
   "execution_count": 3671,
   "metadata": {},
   "outputs": [],
   "source": [
    "format_dict = {'Average Purchase Price':'${0:,.2f}', 'Avg Total Purchase Per Person':'${0:,.2f}',\n",
    "               'Total Purchase Value':'${0:,.2f}', 'Average Total Per Player':'${0:,.2f}',\n",
    "              'Percentage of Players':'{:.2f}%'}"
   ]
  },
  {
   "cell_type": "code",
   "execution_count": 3631,
   "metadata": {
    "scrolled": true
   },
   "outputs": [
    {
     "data": {
      "text/html": [
       "<div>\n",
       "<style scoped>\n",
       "    .dataframe tbody tr th:only-of-type {\n",
       "        vertical-align: middle;\n",
       "    }\n",
       "\n",
       "    .dataframe tbody tr th {\n",
       "        vertical-align: top;\n",
       "    }\n",
       "\n",
       "    .dataframe thead th {\n",
       "        text-align: right;\n",
       "    }\n",
       "</style>\n",
       "<table border=\"1\" class=\"dataframe\">\n",
       "  <thead>\n",
       "    <tr style=\"text-align: right;\">\n",
       "      <th></th>\n",
       "      <th>Total Players</th>\n",
       "    </tr>\n",
       "  </thead>\n",
       "  <tbody>\n",
       "    <tr>\n",
       "      <th>0</th>\n",
       "      <td>576</td>\n",
       "    </tr>\n",
       "  </tbody>\n",
       "</table>\n",
       "</div>"
      ],
      "text/plain": [
       "   Total Players\n",
       "0            576"
      ]
     },
     "execution_count": 3631,
     "metadata": {},
     "output_type": "execute_result"
    }
   ],
   "source": [
    "all_df = pd.DataFrame({\"Total Players\":[total_player]})\n",
    "all_df"
   ]
  },
  {
   "cell_type": "code",
   "execution_count": 3632,
   "metadata": {},
   "outputs": [
    {
     "data": {
      "text/html": [
       "<div>\n",
       "<style scoped>\n",
       "    .dataframe tbody tr th:only-of-type {\n",
       "        vertical-align: middle;\n",
       "    }\n",
       "\n",
       "    .dataframe tbody tr th {\n",
       "        vertical-align: top;\n",
       "    }\n",
       "\n",
       "    .dataframe thead th {\n",
       "        text-align: right;\n",
       "    }\n",
       "</style>\n",
       "<table border=\"1\" class=\"dataframe\">\n",
       "  <thead>\n",
       "    <tr style=\"text-align: right;\">\n",
       "      <th></th>\n",
       "      <th>Number of Unique Items</th>\n",
       "      <th>Average Price</th>\n",
       "      <th>Number of Purchases</th>\n",
       "      <th>Total Revenue</th>\n",
       "    </tr>\n",
       "  </thead>\n",
       "  <tbody>\n",
       "    <tr>\n",
       "      <th>0</th>\n",
       "      <td>179</td>\n",
       "      <td>$3.05</td>\n",
       "      <td>780</td>\n",
       "      <td>$2,379.77</td>\n",
       "    </tr>\n",
       "  </tbody>\n",
       "</table>\n",
       "</div>"
      ],
      "text/plain": [
       "   Number of Unique Items Average Price  Number of Purchases Total Revenue\n",
       "0                     179         $3.05                  780     $2,379.77"
      ]
     },
     "execution_count": 3632,
     "metadata": {},
     "output_type": "execute_result"
    }
   ],
   "source": [
    "Purchasing_an = pd.DataFrame({\"Number of Unique Items\":[total_game],\"Average Price\":[avr_price],\n",
    "                          \"Number of Purchases\":[pmoli_purchase],\n",
    "                              \"Total Revenue\":[pmoli_revenue]})\n",
    "Purchasing_an "
   ]
  },
  {
   "cell_type": "code",
   "execution_count": 3633,
   "metadata": {},
   "outputs": [
    {
     "data": {
      "text/html": [
       "<style  type=\"text/css\" >\n",
       "</style><table id=\"T_3b2b0d72_a837_11eb_8aea_b5209453efc2\" ><thead>    <tr>        <th class=\"blank level0\" ></th>        <th class=\"col_heading level0 col0\" >Purchase Count</th>        <th class=\"col_heading level0 col1\" >Average Purchase Price</th>        <th class=\"col_heading level0 col2\" >Total Purchase Value</th>        <th class=\"col_heading level0 col3\" >Avg Total Purchase Per Person</th>    </tr></thead><tbody>\n",
       "                <tr>\n",
       "                        <th id=\"T_3b2b0d72_a837_11eb_8aea_b5209453efc2level0_row0\" class=\"row_heading level0 row0\" >Male</th>\n",
       "                        <td id=\"T_3b2b0d72_a837_11eb_8aea_b5209453efc2row0_col0\" class=\"data row0 col0\" >652</td>\n",
       "                        <td id=\"T_3b2b0d72_a837_11eb_8aea_b5209453efc2row0_col1\" class=\"data row0 col1\" >$3.02</td>\n",
       "                        <td id=\"T_3b2b0d72_a837_11eb_8aea_b5209453efc2row0_col2\" class=\"data row0 col2\" >$1,967.64</td>\n",
       "                        <td id=\"T_3b2b0d72_a837_11eb_8aea_b5209453efc2row0_col3\" class=\"data row0 col3\" >$4.07</td>\n",
       "            </tr>\n",
       "            <tr>\n",
       "                        <th id=\"T_3b2b0d72_a837_11eb_8aea_b5209453efc2level0_row1\" class=\"row_heading level0 row1\" >Female</th>\n",
       "                        <td id=\"T_3b2b0d72_a837_11eb_8aea_b5209453efc2row1_col0\" class=\"data row1 col0\" >113</td>\n",
       "                        <td id=\"T_3b2b0d72_a837_11eb_8aea_b5209453efc2row1_col1\" class=\"data row1 col1\" >$3.20</td>\n",
       "                        <td id=\"T_3b2b0d72_a837_11eb_8aea_b5209453efc2row1_col2\" class=\"data row1 col2\" >$361.94</td>\n",
       "                        <td id=\"T_3b2b0d72_a837_11eb_8aea_b5209453efc2row1_col3\" class=\"data row1 col3\" >$4.47</td>\n",
       "            </tr>\n",
       "            <tr>\n",
       "                        <th id=\"T_3b2b0d72_a837_11eb_8aea_b5209453efc2level0_row2\" class=\"row_heading level0 row2\" >Other/Undisclosed</th>\n",
       "                        <td id=\"T_3b2b0d72_a837_11eb_8aea_b5209453efc2row2_col0\" class=\"data row2 col0\" >15</td>\n",
       "                        <td id=\"T_3b2b0d72_a837_11eb_8aea_b5209453efc2row2_col1\" class=\"data row2 col1\" >$3.35</td>\n",
       "                        <td id=\"T_3b2b0d72_a837_11eb_8aea_b5209453efc2row2_col2\" class=\"data row2 col2\" >$50.19</td>\n",
       "                        <td id=\"T_3b2b0d72_a837_11eb_8aea_b5209453efc2row2_col3\" class=\"data row2 col3\" >$4.56</td>\n",
       "            </tr>\n",
       "    </tbody></table>"
      ],
      "text/plain": [
       "<pandas.io.formats.style.Styler at 0x2ce6db516a0>"
      ]
     },
     "execution_count": 3633,
     "metadata": {},
     "output_type": "execute_result"
    }
   ],
   "source": [
    "Purchasing_an_gd = pd.DataFrame({\"Purchase Count\":[male_purchase,female_purchase,unknown_purchase],\n",
    "                                 \"Average Purchase Price\":[male_avr,female_avr,unknown_avr],\n",
    "                          \"Total Purchase Value\":[male_revenue,female_revenue,unknown_revenue],\n",
    "                              \"Avg Total Purchase Per Person\":[avr_pur_male,avr_pur_female,avr_pur_unknown]},\n",
    "                               index=[\"Male\",\"Female\",\"Other/Undisclosed\"])\n",
    "Purchasing_an_gd.style.format(format_dict)"
   ]
  },
  {
   "cell_type": "code",
   "execution_count": 3634,
   "metadata": {
    "scrolled": true
   },
   "outputs": [
    {
     "data": {
      "text/html": [
       "<div>\n",
       "<style scoped>\n",
       "    .dataframe tbody tr th:only-of-type {\n",
       "        vertical-align: middle;\n",
       "    }\n",
       "\n",
       "    .dataframe tbody tr th {\n",
       "        vertical-align: top;\n",
       "    }\n",
       "\n",
       "    .dataframe thead th {\n",
       "        text-align: right;\n",
       "    }\n",
       "</style>\n",
       "<table border=\"1\" class=\"dataframe\">\n",
       "  <thead>\n",
       "    <tr style=\"text-align: right;\">\n",
       "      <th></th>\n",
       "      <th>Total Count</th>\n",
       "      <th>Percentage of Gender</th>\n",
       "    </tr>\n",
       "  </thead>\n",
       "  <tbody>\n",
       "    <tr>\n",
       "      <th>Male</th>\n",
       "      <td>484</td>\n",
       "      <td>84.03%</td>\n",
       "    </tr>\n",
       "    <tr>\n",
       "      <th>Female</th>\n",
       "      <td>81</td>\n",
       "      <td>14.06%</td>\n",
       "    </tr>\n",
       "    <tr>\n",
       "      <th>Other/Undisclosed</th>\n",
       "      <td>11</td>\n",
       "      <td>2.60%</td>\n",
       "    </tr>\n",
       "  </tbody>\n",
       "</table>\n",
       "</div>"
      ],
      "text/plain": [
       "                   Total Count Percentage of Gender\n",
       "Male                       484               84.03%\n",
       "Female                      81               14.06%\n",
       "Other/Undisclosed           11                2.60%"
      ]
     },
     "execution_count": 3634,
     "metadata": {},
     "output_type": "execute_result"
    }
   ],
   "source": [
    "Gender_df = pd.DataFrame({\"Total Count\":[male_player,female_player,unknown_player],\n",
    "                          \"Percentage of Gender\":[percent_male,percent_female,percent_unknown]},\n",
    "                         index=[\"Male\",\"Female\",\"Other/Undisclosed\"])   \n",
    "Gender_df[\"Percentage of Gender\"]= Gender_df[\"Percentage of Gender\"] + '%'\n",
    "Gender_df"
   ]
  },
  {
   "cell_type": "code",
   "execution_count": 3635,
   "metadata": {},
   "outputs": [
    {
     "data": {
      "text/html": [
       "<style  type=\"text/css\" >\n",
       "</style><table id=\"T_3b34cac3_a837_11eb_8c7c_b5209453efc2\" ><thead>    <tr>        <th class=\"col_heading level0 col0\" >Age Bracket</th>        <th class=\"col_heading level0 col1\" >Total Player</th>        <th class=\"col_heading level0 col2\" >Percentage of Players</th>    </tr></thead><tbody>\n",
       "                <tr>\n",
       "                                <td id=\"T_3b34cac3_a837_11eb_8c7c_b5209453efc2row0_col0\" class=\"data row0 col0\" ><10</td>\n",
       "                        <td id=\"T_3b34cac3_a837_11eb_8c7c_b5209453efc2row0_col1\" class=\"data row0 col1\" >17</td>\n",
       "                        <td id=\"T_3b34cac3_a837_11eb_8c7c_b5209453efc2row0_col2\" class=\"data row0 col2\" >2.95%</td>\n",
       "            </tr>\n",
       "            <tr>\n",
       "                                <td id=\"T_3b34cac3_a837_11eb_8c7c_b5209453efc2row1_col0\" class=\"data row1 col0\" >10-14</td>\n",
       "                        <td id=\"T_3b34cac3_a837_11eb_8c7c_b5209453efc2row1_col1\" class=\"data row1 col1\" >22</td>\n",
       "                        <td id=\"T_3b34cac3_a837_11eb_8c7c_b5209453efc2row1_col2\" class=\"data row1 col2\" >3.82%</td>\n",
       "            </tr>\n",
       "            <tr>\n",
       "                                <td id=\"T_3b34cac3_a837_11eb_8c7c_b5209453efc2row2_col0\" class=\"data row2 col0\" >15-19</td>\n",
       "                        <td id=\"T_3b34cac3_a837_11eb_8c7c_b5209453efc2row2_col1\" class=\"data row2 col1\" >107</td>\n",
       "                        <td id=\"T_3b34cac3_a837_11eb_8c7c_b5209453efc2row2_col2\" class=\"data row2 col2\" >18.58%</td>\n",
       "            </tr>\n",
       "            <tr>\n",
       "                                <td id=\"T_3b34cac3_a837_11eb_8c7c_b5209453efc2row3_col0\" class=\"data row3 col0\" >20-24</td>\n",
       "                        <td id=\"T_3b34cac3_a837_11eb_8c7c_b5209453efc2row3_col1\" class=\"data row3 col1\" >258</td>\n",
       "                        <td id=\"T_3b34cac3_a837_11eb_8c7c_b5209453efc2row3_col2\" class=\"data row3 col2\" >44.79%</td>\n",
       "            </tr>\n",
       "            <tr>\n",
       "                                <td id=\"T_3b34cac3_a837_11eb_8c7c_b5209453efc2row4_col0\" class=\"data row4 col0\" >25-29</td>\n",
       "                        <td id=\"T_3b34cac3_a837_11eb_8c7c_b5209453efc2row4_col1\" class=\"data row4 col1\" >77</td>\n",
       "                        <td id=\"T_3b34cac3_a837_11eb_8c7c_b5209453efc2row4_col2\" class=\"data row4 col2\" >13.37%</td>\n",
       "            </tr>\n",
       "            <tr>\n",
       "                                <td id=\"T_3b34cac3_a837_11eb_8c7c_b5209453efc2row5_col0\" class=\"data row5 col0\" >30-34</td>\n",
       "                        <td id=\"T_3b34cac3_a837_11eb_8c7c_b5209453efc2row5_col1\" class=\"data row5 col1\" >52</td>\n",
       "                        <td id=\"T_3b34cac3_a837_11eb_8c7c_b5209453efc2row5_col2\" class=\"data row5 col2\" >9.03%</td>\n",
       "            </tr>\n",
       "            <tr>\n",
       "                                <td id=\"T_3b34cac3_a837_11eb_8c7c_b5209453efc2row6_col0\" class=\"data row6 col0\" >35-39</td>\n",
       "                        <td id=\"T_3b34cac3_a837_11eb_8c7c_b5209453efc2row6_col1\" class=\"data row6 col1\" >31</td>\n",
       "                        <td id=\"T_3b34cac3_a837_11eb_8c7c_b5209453efc2row6_col2\" class=\"data row6 col2\" >5.38%</td>\n",
       "            </tr>\n",
       "            <tr>\n",
       "                                <td id=\"T_3b34cac3_a837_11eb_8c7c_b5209453efc2row7_col0\" class=\"data row7 col0\" >>40</td>\n",
       "                        <td id=\"T_3b34cac3_a837_11eb_8c7c_b5209453efc2row7_col1\" class=\"data row7 col1\" >11</td>\n",
       "                        <td id=\"T_3b34cac3_a837_11eb_8c7c_b5209453efc2row7_col2\" class=\"data row7 col2\" >1.91%</td>\n",
       "            </tr>\n",
       "    </tbody></table>"
      ],
      "text/plain": [
       "<pandas.io.formats.style.Styler at 0x2ce6db62f70>"
      ]
     },
     "execution_count": 3635,
     "metadata": {},
     "output_type": "execute_result"
    }
   ],
   "source": [
    "Age_dem = pd.concat([player_ct, Age_demo], axis=1, join=\"inner\").reset_index()\n",
    "Age_dem.style.format(format_dict).hide_index()\n"
   ]
  },
  {
   "cell_type": "code",
   "execution_count": 3636,
   "metadata": {
    "scrolled": true
   },
   "outputs": [
    {
     "data": {
      "text/html": [
       "<style  type=\"text/css\" >\n",
       "</style><table id=\"T_3b3a1e66_a837_11eb_919e_b5209453efc2\" ><thead>    <tr>        <th class=\"col_heading level0 col0\" >Age Bracket</th>        <th class=\"col_heading level0 col1\" >Purchase Count</th>        <th class=\"col_heading level0 col2\" >Average Purchase Price</th>        <th class=\"col_heading level0 col3\" >Total Purchase Value</th>        <th class=\"col_heading level0 col4\" >Average Total Per Player</th>    </tr></thead><tbody>\n",
       "                <tr>\n",
       "                                <td id=\"T_3b3a1e66_a837_11eb_919e_b5209453efc2row0_col0\" class=\"data row0 col0\" ><10</td>\n",
       "                        <td id=\"T_3b3a1e66_a837_11eb_919e_b5209453efc2row0_col1\" class=\"data row0 col1\" >23</td>\n",
       "                        <td id=\"T_3b3a1e66_a837_11eb_919e_b5209453efc2row0_col2\" class=\"data row0 col2\" >$3.35</td>\n",
       "                        <td id=\"T_3b3a1e66_a837_11eb_919e_b5209453efc2row0_col3\" class=\"data row0 col3\" >$77.13</td>\n",
       "                        <td id=\"T_3b3a1e66_a837_11eb_919e_b5209453efc2row0_col4\" class=\"data row0 col4\" >$4.54</td>\n",
       "            </tr>\n",
       "            <tr>\n",
       "                                <td id=\"T_3b3a1e66_a837_11eb_919e_b5209453efc2row1_col0\" class=\"data row1 col0\" >10-14</td>\n",
       "                        <td id=\"T_3b3a1e66_a837_11eb_919e_b5209453efc2row1_col1\" class=\"data row1 col1\" >28</td>\n",
       "                        <td id=\"T_3b3a1e66_a837_11eb_919e_b5209453efc2row1_col2\" class=\"data row1 col2\" >$2.96</td>\n",
       "                        <td id=\"T_3b3a1e66_a837_11eb_919e_b5209453efc2row1_col3\" class=\"data row1 col3\" >$82.78</td>\n",
       "                        <td id=\"T_3b3a1e66_a837_11eb_919e_b5209453efc2row1_col4\" class=\"data row1 col4\" >$3.76</td>\n",
       "            </tr>\n",
       "            <tr>\n",
       "                                <td id=\"T_3b3a1e66_a837_11eb_919e_b5209453efc2row2_col0\" class=\"data row2 col0\" >15-19</td>\n",
       "                        <td id=\"T_3b3a1e66_a837_11eb_919e_b5209453efc2row2_col1\" class=\"data row2 col1\" >136</td>\n",
       "                        <td id=\"T_3b3a1e66_a837_11eb_919e_b5209453efc2row2_col2\" class=\"data row2 col2\" >$3.04</td>\n",
       "                        <td id=\"T_3b3a1e66_a837_11eb_919e_b5209453efc2row2_col3\" class=\"data row2 col3\" >$412.89</td>\n",
       "                        <td id=\"T_3b3a1e66_a837_11eb_919e_b5209453efc2row2_col4\" class=\"data row2 col4\" >$3.86</td>\n",
       "            </tr>\n",
       "            <tr>\n",
       "                                <td id=\"T_3b3a1e66_a837_11eb_919e_b5209453efc2row3_col0\" class=\"data row3 col0\" >20-24</td>\n",
       "                        <td id=\"T_3b3a1e66_a837_11eb_919e_b5209453efc2row3_col1\" class=\"data row3 col1\" >365</td>\n",
       "                        <td id=\"T_3b3a1e66_a837_11eb_919e_b5209453efc2row3_col2\" class=\"data row3 col2\" >$3.05</td>\n",
       "                        <td id=\"T_3b3a1e66_a837_11eb_919e_b5209453efc2row3_col3\" class=\"data row3 col3\" >$1,114.06</td>\n",
       "                        <td id=\"T_3b3a1e66_a837_11eb_919e_b5209453efc2row3_col4\" class=\"data row3 col4\" >$4.32</td>\n",
       "            </tr>\n",
       "            <tr>\n",
       "                                <td id=\"T_3b3a1e66_a837_11eb_919e_b5209453efc2row4_col0\" class=\"data row4 col0\" >25-29</td>\n",
       "                        <td id=\"T_3b3a1e66_a837_11eb_919e_b5209453efc2row4_col1\" class=\"data row4 col1\" >101</td>\n",
       "                        <td id=\"T_3b3a1e66_a837_11eb_919e_b5209453efc2row4_col2\" class=\"data row4 col2\" >$2.90</td>\n",
       "                        <td id=\"T_3b3a1e66_a837_11eb_919e_b5209453efc2row4_col3\" class=\"data row4 col3\" >$293.00</td>\n",
       "                        <td id=\"T_3b3a1e66_a837_11eb_919e_b5209453efc2row4_col4\" class=\"data row4 col4\" >$3.81</td>\n",
       "            </tr>\n",
       "            <tr>\n",
       "                                <td id=\"T_3b3a1e66_a837_11eb_919e_b5209453efc2row5_col0\" class=\"data row5 col0\" >30-34</td>\n",
       "                        <td id=\"T_3b3a1e66_a837_11eb_919e_b5209453efc2row5_col1\" class=\"data row5 col1\" >73</td>\n",
       "                        <td id=\"T_3b3a1e66_a837_11eb_919e_b5209453efc2row5_col2\" class=\"data row5 col2\" >$2.93</td>\n",
       "                        <td id=\"T_3b3a1e66_a837_11eb_919e_b5209453efc2row5_col3\" class=\"data row5 col3\" >$214.00</td>\n",
       "                        <td id=\"T_3b3a1e66_a837_11eb_919e_b5209453efc2row5_col4\" class=\"data row5 col4\" >$4.12</td>\n",
       "            </tr>\n",
       "            <tr>\n",
       "                                <td id=\"T_3b3a1e66_a837_11eb_919e_b5209453efc2row6_col0\" class=\"data row6 col0\" >35-39</td>\n",
       "                        <td id=\"T_3b3a1e66_a837_11eb_919e_b5209453efc2row6_col1\" class=\"data row6 col1\" >41</td>\n",
       "                        <td id=\"T_3b3a1e66_a837_11eb_919e_b5209453efc2row6_col2\" class=\"data row6 col2\" >$3.60</td>\n",
       "                        <td id=\"T_3b3a1e66_a837_11eb_919e_b5209453efc2row6_col3\" class=\"data row6 col3\" >$147.67</td>\n",
       "                        <td id=\"T_3b3a1e66_a837_11eb_919e_b5209453efc2row6_col4\" class=\"data row6 col4\" >$4.76</td>\n",
       "            </tr>\n",
       "            <tr>\n",
       "                                <td id=\"T_3b3a1e66_a837_11eb_919e_b5209453efc2row7_col0\" class=\"data row7 col0\" >>40</td>\n",
       "                        <td id=\"T_3b3a1e66_a837_11eb_919e_b5209453efc2row7_col1\" class=\"data row7 col1\" >12</td>\n",
       "                        <td id=\"T_3b3a1e66_a837_11eb_919e_b5209453efc2row7_col2\" class=\"data row7 col2\" >$3.04</td>\n",
       "                        <td id=\"T_3b3a1e66_a837_11eb_919e_b5209453efc2row7_col3\" class=\"data row7 col3\" >$36.54</td>\n",
       "                        <td id=\"T_3b3a1e66_a837_11eb_919e_b5209453efc2row7_col4\" class=\"data row7 col4\" >$3.32</td>\n",
       "            </tr>\n",
       "    </tbody></table>"
      ],
      "text/plain": [
       "<pandas.io.formats.style.Styler at 0x2ce6dab5250>"
      ]
     },
     "execution_count": 3636,
     "metadata": {},
     "output_type": "execute_result"
    }
   ],
   "source": [
    "df = pd.concat([purchase_df,mean_df,sum_df,player_df], axis=1, join=\"inner\").reset_index()\n",
    "Age_analysis = pd.DataFrame(df)\n",
    "Age_analysis.style.format(format_dict).hide_index()"
   ]
  },
  {
   "cell_type": "code",
   "execution_count": null,
   "metadata": {},
   "outputs": [],
   "source": []
  },
  {
   "cell_type": "code",
   "execution_count": null,
   "metadata": {},
   "outputs": [],
   "source": []
  }
 ],
 "metadata": {
  "kernelspec": {
   "display_name": "Python 3",
   "language": "python",
   "name": "python3"
  },
  "language_info": {
   "codemirror_mode": {
    "name": "ipython",
    "version": 3
   },
   "file_extension": ".py",
   "mimetype": "text/x-python",
   "name": "python",
   "nbconvert_exporter": "python",
   "pygments_lexer": "ipython3",
   "version": "3.8.5"
  }
 },
 "nbformat": 4,
 "nbformat_minor": 4
}
