{
 "cells": [
  {
   "cell_type": "code",
   "execution_count": 3848,
   "metadata": {},
   "outputs": [],
   "source": [
    "import os\n",
    "import csv\n",
    "import pandas as pd\n",
    "import numpy as np"
   ]
  },
  {
   "cell_type": "code",
   "execution_count": 3849,
   "metadata": {},
   "outputs": [],
   "source": [
    "csvpath = os.path.join('..', 'HeroesOfPyMoli', 'purchase_data.csv')"
   ]
  },
  {
   "cell_type": "code",
   "execution_count": 3850,
   "metadata": {},
   "outputs": [],
   "source": [
    "with open(csvpath) as csvfile:\n",
    "    csvreader2 = csv.reader(csvfile, delimiter=',')\n",
    "    for row in csvreader2:\n",
    "        pmoli = pd.DataFrame(csvreader2, columns = ['Purchase ID','SN','Age','Gender','Item ID','Item Name','Price'])"
   ]
  },
  {
   "cell_type": "code",
   "execution_count": 3851,
   "metadata": {
    "scrolled": true
   },
   "outputs": [],
   "source": [
    "total_player = (len(pmoli.iloc[:,1].unique()))\n",
    "total_game = (len(pmoli.iloc[:,4].unique()))\n",
    "pmoli.loc[:,\"Price\"] = pmoli[\"Price\"].astype(\"float\")\n",
    "pmoli.loc[:,\"Age\"] = pmoli[\"Age\"].astype(\"int\")\n",
    "avr_price = ('${0:,.2f}'.format(pmoli[\"Price\"].mean()))\n",
    "pmoli_purchase = (len(pmoli))\n",
    "pmoli_revenue = ('${0:,.2f}'.format(pmoli[\"Price\"].sum()))"
   ]
  },
  {
   "cell_type": "code",
   "execution_count": 3852,
   "metadata": {},
   "outputs": [],
   "source": [
    "pmoli_male_df = pmoli.loc[pmoli[\"Gender\"] == \"Male\"]\n",
    "male_player = (len(pmoli_male_df.iloc[:,1].unique()))\n",
    "percent_male = (\"{:.2f}\".format((int(male_player)/int(total_player))*100))\n",
    "pmoli_female_df = pmoli.loc[pmoli[\"Gender\"] == \"Female\"]\n",
    "female_player = (len(pmoli_female_df.iloc[:,1].unique()))\n",
    "percent_female = (\"{:.2f}\".format((int(female_player)/int(total_player))*100))\n",
    "pmoli_unknown_df = pmoli.loc[pmoli[\"Gender\"] == \"Other / Non-Disclosed\"]\n",
    "unknown_player = (len(pmoli_unknown_df.iloc[:,1].unique()))\n",
    "percent_unknown = (\"{:.2f}\".format((int(pmoli_unknown)/int(total_player))*100))"
   ]
  },
  {
   "cell_type": "code",
   "execution_count": 3853,
   "metadata": {},
   "outputs": [],
   "source": [
    "male_purchase = (len(pmoli_male_df))\n",
    "male_avr = (pmoli_male_df[\"Price\"].mean())\n",
    "male_revenue = (pmoli_male_df[\"Price\"].sum())\n",
    "avr_pur_male = ((male_purchase/male_player)*male_avr)\n",
    "female_purchase = (len(pmoli_female_df))\n",
    "female_avr = (pmoli_female_df[\"Price\"].mean())\n",
    "female_revenue = (pmoli_female_df[\"Price\"].sum())\n",
    "avr_pur_female = ((female_purchase/female_player)*female_avr)\n",
    "unknown_purchase = (len(pmoli_unknown_df))\n",
    "unknown_avr = (pmoli_unknown_df[\"Price\"].mean())\n",
    "unknown_revenue = (pmoli_unknown_df[\"Price\"].sum())\n",
    "avr_pur_unknown = ((unknown_purchase/unknown_player)*unknown_avr)"
   ]
  },
  {
   "cell_type": "code",
   "execution_count": 3854,
   "metadata": {},
   "outputs": [],
   "source": [
    "bins = [0,9,14,19,24,29,34,39,44]\n",
    "group_labels = [\"<10\",\"10-14\",\"15-19\",\"20-24\",\"25-29\",\"30-34\",\"35-39\",\">40\"]"
   ]
  },
  {
   "cell_type": "code",
   "execution_count": 3855,
   "metadata": {},
   "outputs": [],
   "source": [
    "pmoli[\"Age Bracket\"] = pd.cut(pmoli[\"Age\"], bins, labels= group_labels, include_lowest=True)\n",
    "pmoli_group = pmoli.groupby('Age Bracket')\n",
    "purchase_count = pd.DataFrame(pmoli_group[\"SN\"].count())\n",
    "purchase_df = purchase_count.rename(columns={\"SN\":\"Purchase Count\"})\n",
    "mean_price = pd.DataFrame(pmoli_group[\"Price\"].mean())\n",
    "mean_df = mean_price.rename(columns={\"Price\":\"Average Purchase Price\"})\n",
    "sum_price = pd.DataFrame(pmoli_group[\"Price\"].sum())\n",
    "sum_df = sum_price.rename(columns={\"Price\":\"Total Purchase Value\"})\n",
    "player_count = pd.DataFrame(pmoli_group[\"SN\"].nunique())\n",
    "player_ct = player_count.rename(columns={player_count.columns[0]:\"Total Player\"})\n",
    "avr_pur_group = pd.DataFrame((sum_price.iloc[:,0])/(player_count.iloc[:,0]))\n",
    "player_df = avr_pur_group.rename(columns={avr_pur_group.columns[0]:\"Average Total Per Player\"})"
   ]
  },
  {
   "cell_type": "code",
   "execution_count": 3856,
   "metadata": {},
   "outputs": [],
   "source": [
    "Age_dm = pd.DataFrame(((player_count.iloc[:,0])/(total_player))*100)\n",
    "Age_demo = Age_dm.rename(columns={Age_dm.columns[0]:\"Percentage of Players\"})"
   ]
  },
  {
   "cell_type": "code",
   "execution_count": 3857,
   "metadata": {},
   "outputs": [],
   "source": [
    "top_s = pmoli.groupby([\"SN\",]).Price.sum().reset_index()\n",
    "top_c = pd.DataFrame(pmoli['SN'].value_counts()).reset_index()\n",
    "top_c_rn = top_c.rename(columns={top_c.columns[0]:\"SN\",top_c.columns[1]:\"Purchase Count\"})\n",
    "top_cs = pd.merge(top_s,top_c_rn, on = 'SN')\n",
    "avr_spd = (top_cs['Price'])/(top_cs['Purchase Count'])\n",
    "top_cs['Average Purchase Price'] = avr_spd\n",
    "top_spdr = top_cs[['SN','Purchase Count','Average Purchase Price','Price']]\n",
    "top_spend = top_spdr.rename(columns={top_spdr.columns[3]: 'Total Purchase Value'})\n",
    "top_spender = top_spend.sort_values('Total Purchase Value', ascending=False)"
   ]
  },
  {
   "cell_type": "code",
   "execution_count": 3858,
   "metadata": {
    "scrolled": true
   },
   "outputs": [],
   "source": [
    "item_series_sum = pmoli.groupby([\"Item ID\",\"Item Name\"]).Price.sum()\n",
    "item_sum_df = pd.DataFrame(item_series_sum)\n",
    "item_sum_rn = item_sum_df.rename(columns={item_sum_df.columns[0]: 'Total Purchase Value'}).reset_index()\n",
    "item_series_mean = pmoli.groupby([\"Item ID\",\"Item Name\"]).Price.mean()\n",
    "item_mean_df = pd.DataFrame(item_series_mean)\n",
    "item_mean_rn = item_mean_df.rename(columns={item_mean_df.columns[0]: 'Average Purchase Price'}).reset_index()\n",
    "item_cnt = pd.DataFrame(pmoli['Item ID'].value_counts()).reset_index()\n",
    "item_ct_rn = item_cnt.rename(columns={item_cnt.columns[0]: 'Item ID',item_cnt.columns[1]: 'Purchase Count'}).reset_index()\n",
    "item_tbl_mrg = item_sum_rn.merge(item_ct_rn, on = 'Item ID').merge(item_mean_rn, on = 'Item ID')\n",
    "item_tbl = item_tbl_mrg[['Item ID','Item Name_x','Purchase Count','Average Purchase Price','Total Purchase Value']]\n",
    "item_tbl_rn = item_tbl.rename(columns={item_tbl.columns[1]: 'Item Name'})\n",
    "most_poular_item = item_tbl_rn.sort_values('Purchase Count', ascending=False)"
   ]
  },
  {
   "cell_type": "code",
   "execution_count": 3859,
   "metadata": {},
   "outputs": [],
   "source": [
    "most_profitable_item = item_tbl_rn.sort_values('Total Purchase Value', ascending=False)"
   ]
  },
  {
   "cell_type": "code",
   "execution_count": 3860,
   "metadata": {},
   "outputs": [],
   "source": [
    "format_dict = {'Average Purchase Price':'${0:,.2f}', 'Avg Total Purchase Per Person':'${0:,.2f}',\n",
    "               'Total Purchase Value':'${0:,.2f}', 'Average Total Per Player':'${0:,.2f}',\n",
    "              'Percentage of Players':'{:.2f}%'}"
   ]
  },
  {
   "cell_type": "code",
   "execution_count": 3861,
   "metadata": {
    "scrolled": true
   },
   "outputs": [],
   "source": [
    "all_df = pd.DataFrame({\"Total Players\":[total_player]})"
   ]
  },
  {
   "cell_type": "code",
   "execution_count": 3862,
   "metadata": {},
   "outputs": [],
   "source": [
    "Purchasing_an = pd.DataFrame({\"Number of Unique Items\":[total_game],\"Average Price\":[avr_price],\n",
    "                          \"Number of Purchases\":[pmoli_purchase],\n",
    "                              \"Total Revenue\":[pmoli_revenue]})"
   ]
  },
  {
   "cell_type": "code",
   "execution_count": 3863,
   "metadata": {},
   "outputs": [],
   "source": [
    "Purchasing_an_gd = pd.DataFrame({\"Purchase Count\":[male_purchase,female_purchase,unknown_purchase],\n",
    "                                 \"Average Purchase Price\":[male_avr,female_avr,unknown_avr],\n",
    "                          \"Total Purchase Value\":[male_revenue,female_revenue,unknown_revenue],\n",
    "                              \"Avg Total Purchase Per Person\":[avr_pur_male,avr_pur_female,avr_pur_unknown]},\n",
    "                               index=[\"Male\",\"Female\",\"Other/Undisclosed\"])"
   ]
  },
  {
   "cell_type": "code",
   "execution_count": 3864,
   "metadata": {
    "scrolled": true
   },
   "outputs": [],
   "source": [
    "Gender_df = pd.DataFrame({\"Total Count\":[male_player,female_player,unknown_player],\n",
    "                          \"Percentage of Gender\":[percent_male,percent_female,percent_unknown]},\n",
    "                         index=[\"Male\",\"Female\",\"Other/Undisclosed\"])   \n",
    "Gender_df[\"Percentage of Gender\"]= Gender_df[\"Percentage of Gender\"] + '%'"
   ]
  },
  {
   "cell_type": "code",
   "execution_count": 3865,
   "metadata": {},
   "outputs": [],
   "source": [
    "Age_dem = pd.concat([player_ct, Age_demo], axis=1, join=\"inner\").reset_index()"
   ]
  },
  {
   "cell_type": "code",
   "execution_count": 3866,
   "metadata": {
    "scrolled": true
   },
   "outputs": [],
   "source": [
    "df = pd.concat([purchase_df,mean_df,sum_df,player_df], axis=1, join=\"inner\").reset_index()\n",
    "Age_analysis = pd.DataFrame(df)"
   ]
  },
  {
   "cell_type": "code",
   "execution_count": 3867,
   "metadata": {},
   "outputs": [
    {
     "name": "stdout",
     "output_type": "stream",
     "text": [
      "Player Count\n"
     ]
    },
    {
     "data": {
      "text/html": [
       "<div>\n",
       "<style scoped>\n",
       "    .dataframe tbody tr th:only-of-type {\n",
       "        vertical-align: middle;\n",
       "    }\n",
       "\n",
       "    .dataframe tbody tr th {\n",
       "        vertical-align: top;\n",
       "    }\n",
       "\n",
       "    .dataframe thead th {\n",
       "        text-align: right;\n",
       "    }\n",
       "</style>\n",
       "<table border=\"1\" class=\"dataframe\">\n",
       "  <thead>\n",
       "    <tr style=\"text-align: right;\">\n",
       "      <th></th>\n",
       "      <th>Total Players</th>\n",
       "    </tr>\n",
       "  </thead>\n",
       "  <tbody>\n",
       "    <tr>\n",
       "      <th>0</th>\n",
       "      <td>576</td>\n",
       "    </tr>\n",
       "  </tbody>\n",
       "</table>\n",
       "</div>"
      ],
      "text/plain": [
       "   Total Players\n",
       "0            576"
      ]
     },
     "execution_count": 3867,
     "metadata": {},
     "output_type": "execute_result"
    }
   ],
   "source": [
    "print('Player Count')\n",
    "all_df"
   ]
  },
  {
   "cell_type": "code",
   "execution_count": 3868,
   "metadata": {},
   "outputs": [
    {
     "name": "stdout",
     "output_type": "stream",
     "text": [
      "Purchasing Analysis (Total)\n"
     ]
    },
    {
     "data": {
      "text/html": [
       "<div>\n",
       "<style scoped>\n",
       "    .dataframe tbody tr th:only-of-type {\n",
       "        vertical-align: middle;\n",
       "    }\n",
       "\n",
       "    .dataframe tbody tr th {\n",
       "        vertical-align: top;\n",
       "    }\n",
       "\n",
       "    .dataframe thead th {\n",
       "        text-align: right;\n",
       "    }\n",
       "</style>\n",
       "<table border=\"1\" class=\"dataframe\">\n",
       "  <thead>\n",
       "    <tr style=\"text-align: right;\">\n",
       "      <th></th>\n",
       "      <th>Number of Unique Items</th>\n",
       "      <th>Average Price</th>\n",
       "      <th>Number of Purchases</th>\n",
       "      <th>Total Revenue</th>\n",
       "    </tr>\n",
       "  </thead>\n",
       "  <tbody>\n",
       "    <tr>\n",
       "      <th>0</th>\n",
       "      <td>179</td>\n",
       "      <td>$3.05</td>\n",
       "      <td>780</td>\n",
       "      <td>$2,379.77</td>\n",
       "    </tr>\n",
       "  </tbody>\n",
       "</table>\n",
       "</div>"
      ],
      "text/plain": [
       "   Number of Unique Items Average Price  Number of Purchases Total Revenue\n",
       "0                     179         $3.05                  780     $2,379.77"
      ]
     },
     "execution_count": 3868,
     "metadata": {},
     "output_type": "execute_result"
    }
   ],
   "source": [
    "print('Purchasing Analysis (Total)')\n",
    "Purchasing_an "
   ]
  },
  {
   "cell_type": "code",
   "execution_count": 3869,
   "metadata": {},
   "outputs": [
    {
     "name": "stdout",
     "output_type": "stream",
     "text": [
      "Gender Demographics\n"
     ]
    },
    {
     "data": {
      "text/html": [
       "<div>\n",
       "<style scoped>\n",
       "    .dataframe tbody tr th:only-of-type {\n",
       "        vertical-align: middle;\n",
       "    }\n",
       "\n",
       "    .dataframe tbody tr th {\n",
       "        vertical-align: top;\n",
       "    }\n",
       "\n",
       "    .dataframe thead th {\n",
       "        text-align: right;\n",
       "    }\n",
       "</style>\n",
       "<table border=\"1\" class=\"dataframe\">\n",
       "  <thead>\n",
       "    <tr style=\"text-align: right;\">\n",
       "      <th></th>\n",
       "      <th>Total Count</th>\n",
       "      <th>Percentage of Gender</th>\n",
       "    </tr>\n",
       "  </thead>\n",
       "  <tbody>\n",
       "    <tr>\n",
       "      <th>Male</th>\n",
       "      <td>484</td>\n",
       "      <td>84.03%</td>\n",
       "    </tr>\n",
       "    <tr>\n",
       "      <th>Female</th>\n",
       "      <td>81</td>\n",
       "      <td>14.06%</td>\n",
       "    </tr>\n",
       "    <tr>\n",
       "      <th>Other/Undisclosed</th>\n",
       "      <td>11</td>\n",
       "      <td>2.60%</td>\n",
       "    </tr>\n",
       "  </tbody>\n",
       "</table>\n",
       "</div>"
      ],
      "text/plain": [
       "                   Total Count Percentage of Gender\n",
       "Male                       484               84.03%\n",
       "Female                      81               14.06%\n",
       "Other/Undisclosed           11                2.60%"
      ]
     },
     "execution_count": 3869,
     "metadata": {},
     "output_type": "execute_result"
    }
   ],
   "source": [
    "print('Gender Demographics')\n",
    "Gender_df"
   ]
  },
  {
   "cell_type": "code",
   "execution_count": 3870,
   "metadata": {},
   "outputs": [
    {
     "name": "stdout",
     "output_type": "stream",
     "text": [
      "Purchasing Analysis (Gender)\n"
     ]
    },
    {
     "data": {
      "text/html": [
       "<style  type=\"text/css\" >\n",
       "</style><table id=\"T_046a5748_a883_11eb_9d5e_b5209453efc2\" ><thead>    <tr>        <th class=\"blank level0\" ></th>        <th class=\"col_heading level0 col0\" >Purchase Count</th>        <th class=\"col_heading level0 col1\" >Average Purchase Price</th>        <th class=\"col_heading level0 col2\" >Total Purchase Value</th>        <th class=\"col_heading level0 col3\" >Avg Total Purchase Per Person</th>    </tr></thead><tbody>\n",
       "                <tr>\n",
       "                        <th id=\"T_046a5748_a883_11eb_9d5e_b5209453efc2level0_row0\" class=\"row_heading level0 row0\" >Male</th>\n",
       "                        <td id=\"T_046a5748_a883_11eb_9d5e_b5209453efc2row0_col0\" class=\"data row0 col0\" >652</td>\n",
       "                        <td id=\"T_046a5748_a883_11eb_9d5e_b5209453efc2row0_col1\" class=\"data row0 col1\" >$3.02</td>\n",
       "                        <td id=\"T_046a5748_a883_11eb_9d5e_b5209453efc2row0_col2\" class=\"data row0 col2\" >$1,967.64</td>\n",
       "                        <td id=\"T_046a5748_a883_11eb_9d5e_b5209453efc2row0_col3\" class=\"data row0 col3\" >$4.07</td>\n",
       "            </tr>\n",
       "            <tr>\n",
       "                        <th id=\"T_046a5748_a883_11eb_9d5e_b5209453efc2level0_row1\" class=\"row_heading level0 row1\" >Female</th>\n",
       "                        <td id=\"T_046a5748_a883_11eb_9d5e_b5209453efc2row1_col0\" class=\"data row1 col0\" >113</td>\n",
       "                        <td id=\"T_046a5748_a883_11eb_9d5e_b5209453efc2row1_col1\" class=\"data row1 col1\" >$3.20</td>\n",
       "                        <td id=\"T_046a5748_a883_11eb_9d5e_b5209453efc2row1_col2\" class=\"data row1 col2\" >$361.94</td>\n",
       "                        <td id=\"T_046a5748_a883_11eb_9d5e_b5209453efc2row1_col3\" class=\"data row1 col3\" >$4.47</td>\n",
       "            </tr>\n",
       "            <tr>\n",
       "                        <th id=\"T_046a5748_a883_11eb_9d5e_b5209453efc2level0_row2\" class=\"row_heading level0 row2\" >Other/Undisclosed</th>\n",
       "                        <td id=\"T_046a5748_a883_11eb_9d5e_b5209453efc2row2_col0\" class=\"data row2 col0\" >15</td>\n",
       "                        <td id=\"T_046a5748_a883_11eb_9d5e_b5209453efc2row2_col1\" class=\"data row2 col1\" >$3.35</td>\n",
       "                        <td id=\"T_046a5748_a883_11eb_9d5e_b5209453efc2row2_col2\" class=\"data row2 col2\" >$50.19</td>\n",
       "                        <td id=\"T_046a5748_a883_11eb_9d5e_b5209453efc2row2_col3\" class=\"data row2 col3\" >$4.56</td>\n",
       "            </tr>\n",
       "    </tbody></table>"
      ],
      "text/plain": [
       "<pandas.io.formats.style.Styler at 0x2ce6dba0f70>"
      ]
     },
     "execution_count": 3870,
     "metadata": {},
     "output_type": "execute_result"
    }
   ],
   "source": [
    "print('Purchasing Analysis (Gender)')\n",
    "Purchasing_an_gd.style.format(format_dict)"
   ]
  },
  {
   "cell_type": "code",
   "execution_count": 3871,
   "metadata": {},
   "outputs": [
    {
     "name": "stdout",
     "output_type": "stream",
     "text": [
      "Age Demographics\n"
     ]
    },
    {
     "data": {
      "text/html": [
       "<style  type=\"text/css\" >\n",
       "</style><table id=\"T_046ee813_a883_11eb_acff_b5209453efc2\" ><thead>    <tr>        <th class=\"col_heading level0 col0\" >Age Bracket</th>        <th class=\"col_heading level0 col1\" >Total Player</th>        <th class=\"col_heading level0 col2\" >Percentage of Players</th>    </tr></thead><tbody>\n",
       "                <tr>\n",
       "                                <td id=\"T_046ee813_a883_11eb_acff_b5209453efc2row0_col0\" class=\"data row0 col0\" ><10</td>\n",
       "                        <td id=\"T_046ee813_a883_11eb_acff_b5209453efc2row0_col1\" class=\"data row0 col1\" >17</td>\n",
       "                        <td id=\"T_046ee813_a883_11eb_acff_b5209453efc2row0_col2\" class=\"data row0 col2\" >2.95%</td>\n",
       "            </tr>\n",
       "            <tr>\n",
       "                                <td id=\"T_046ee813_a883_11eb_acff_b5209453efc2row1_col0\" class=\"data row1 col0\" >10-14</td>\n",
       "                        <td id=\"T_046ee813_a883_11eb_acff_b5209453efc2row1_col1\" class=\"data row1 col1\" >22</td>\n",
       "                        <td id=\"T_046ee813_a883_11eb_acff_b5209453efc2row1_col2\" class=\"data row1 col2\" >3.82%</td>\n",
       "            </tr>\n",
       "            <tr>\n",
       "                                <td id=\"T_046ee813_a883_11eb_acff_b5209453efc2row2_col0\" class=\"data row2 col0\" >15-19</td>\n",
       "                        <td id=\"T_046ee813_a883_11eb_acff_b5209453efc2row2_col1\" class=\"data row2 col1\" >107</td>\n",
       "                        <td id=\"T_046ee813_a883_11eb_acff_b5209453efc2row2_col2\" class=\"data row2 col2\" >18.58%</td>\n",
       "            </tr>\n",
       "            <tr>\n",
       "                                <td id=\"T_046ee813_a883_11eb_acff_b5209453efc2row3_col0\" class=\"data row3 col0\" >20-24</td>\n",
       "                        <td id=\"T_046ee813_a883_11eb_acff_b5209453efc2row3_col1\" class=\"data row3 col1\" >258</td>\n",
       "                        <td id=\"T_046ee813_a883_11eb_acff_b5209453efc2row3_col2\" class=\"data row3 col2\" >44.79%</td>\n",
       "            </tr>\n",
       "            <tr>\n",
       "                                <td id=\"T_046ee813_a883_11eb_acff_b5209453efc2row4_col0\" class=\"data row4 col0\" >25-29</td>\n",
       "                        <td id=\"T_046ee813_a883_11eb_acff_b5209453efc2row4_col1\" class=\"data row4 col1\" >77</td>\n",
       "                        <td id=\"T_046ee813_a883_11eb_acff_b5209453efc2row4_col2\" class=\"data row4 col2\" >13.37%</td>\n",
       "            </tr>\n",
       "            <tr>\n",
       "                                <td id=\"T_046ee813_a883_11eb_acff_b5209453efc2row5_col0\" class=\"data row5 col0\" >30-34</td>\n",
       "                        <td id=\"T_046ee813_a883_11eb_acff_b5209453efc2row5_col1\" class=\"data row5 col1\" >52</td>\n",
       "                        <td id=\"T_046ee813_a883_11eb_acff_b5209453efc2row5_col2\" class=\"data row5 col2\" >9.03%</td>\n",
       "            </tr>\n",
       "            <tr>\n",
       "                                <td id=\"T_046ee813_a883_11eb_acff_b5209453efc2row6_col0\" class=\"data row6 col0\" >35-39</td>\n",
       "                        <td id=\"T_046ee813_a883_11eb_acff_b5209453efc2row6_col1\" class=\"data row6 col1\" >31</td>\n",
       "                        <td id=\"T_046ee813_a883_11eb_acff_b5209453efc2row6_col2\" class=\"data row6 col2\" >5.38%</td>\n",
       "            </tr>\n",
       "            <tr>\n",
       "                                <td id=\"T_046ee813_a883_11eb_acff_b5209453efc2row7_col0\" class=\"data row7 col0\" >>40</td>\n",
       "                        <td id=\"T_046ee813_a883_11eb_acff_b5209453efc2row7_col1\" class=\"data row7 col1\" >11</td>\n",
       "                        <td id=\"T_046ee813_a883_11eb_acff_b5209453efc2row7_col2\" class=\"data row7 col2\" >1.91%</td>\n",
       "            </tr>\n",
       "    </tbody></table>"
      ],
      "text/plain": [
       "<pandas.io.formats.style.Styler at 0x2ce6dc0be20>"
      ]
     },
     "execution_count": 3871,
     "metadata": {},
     "output_type": "execute_result"
    }
   ],
   "source": [
    "print('Age Demographics')\n",
    "Age_dem.style.format(format_dict).hide_index()"
   ]
  },
  {
   "cell_type": "code",
   "execution_count": 3872,
   "metadata": {},
   "outputs": [
    {
     "name": "stdout",
     "output_type": "stream",
     "text": [
      "Purchasing Analysis (Age)\n"
     ]
    },
    {
     "data": {
      "text/html": [
       "<style  type=\"text/css\" >\n",
       "</style><table id=\"T_0473eda9_a883_11eb_9b7a_b5209453efc2\" ><thead>    <tr>        <th class=\"col_heading level0 col0\" >Age Bracket</th>        <th class=\"col_heading level0 col1\" >Purchase Count</th>        <th class=\"col_heading level0 col2\" >Average Purchase Price</th>        <th class=\"col_heading level0 col3\" >Total Purchase Value</th>        <th class=\"col_heading level0 col4\" >Average Total Per Player</th>    </tr></thead><tbody>\n",
       "                <tr>\n",
       "                                <td id=\"T_0473eda9_a883_11eb_9b7a_b5209453efc2row0_col0\" class=\"data row0 col0\" ><10</td>\n",
       "                        <td id=\"T_0473eda9_a883_11eb_9b7a_b5209453efc2row0_col1\" class=\"data row0 col1\" >23</td>\n",
       "                        <td id=\"T_0473eda9_a883_11eb_9b7a_b5209453efc2row0_col2\" class=\"data row0 col2\" >$3.35</td>\n",
       "                        <td id=\"T_0473eda9_a883_11eb_9b7a_b5209453efc2row0_col3\" class=\"data row0 col3\" >$77.13</td>\n",
       "                        <td id=\"T_0473eda9_a883_11eb_9b7a_b5209453efc2row0_col4\" class=\"data row0 col4\" >$4.54</td>\n",
       "            </tr>\n",
       "            <tr>\n",
       "                                <td id=\"T_0473eda9_a883_11eb_9b7a_b5209453efc2row1_col0\" class=\"data row1 col0\" >10-14</td>\n",
       "                        <td id=\"T_0473eda9_a883_11eb_9b7a_b5209453efc2row1_col1\" class=\"data row1 col1\" >28</td>\n",
       "                        <td id=\"T_0473eda9_a883_11eb_9b7a_b5209453efc2row1_col2\" class=\"data row1 col2\" >$2.96</td>\n",
       "                        <td id=\"T_0473eda9_a883_11eb_9b7a_b5209453efc2row1_col3\" class=\"data row1 col3\" >$82.78</td>\n",
       "                        <td id=\"T_0473eda9_a883_11eb_9b7a_b5209453efc2row1_col4\" class=\"data row1 col4\" >$3.76</td>\n",
       "            </tr>\n",
       "            <tr>\n",
       "                                <td id=\"T_0473eda9_a883_11eb_9b7a_b5209453efc2row2_col0\" class=\"data row2 col0\" >15-19</td>\n",
       "                        <td id=\"T_0473eda9_a883_11eb_9b7a_b5209453efc2row2_col1\" class=\"data row2 col1\" >136</td>\n",
       "                        <td id=\"T_0473eda9_a883_11eb_9b7a_b5209453efc2row2_col2\" class=\"data row2 col2\" >$3.04</td>\n",
       "                        <td id=\"T_0473eda9_a883_11eb_9b7a_b5209453efc2row2_col3\" class=\"data row2 col3\" >$412.89</td>\n",
       "                        <td id=\"T_0473eda9_a883_11eb_9b7a_b5209453efc2row2_col4\" class=\"data row2 col4\" >$3.86</td>\n",
       "            </tr>\n",
       "            <tr>\n",
       "                                <td id=\"T_0473eda9_a883_11eb_9b7a_b5209453efc2row3_col0\" class=\"data row3 col0\" >20-24</td>\n",
       "                        <td id=\"T_0473eda9_a883_11eb_9b7a_b5209453efc2row3_col1\" class=\"data row3 col1\" >365</td>\n",
       "                        <td id=\"T_0473eda9_a883_11eb_9b7a_b5209453efc2row3_col2\" class=\"data row3 col2\" >$3.05</td>\n",
       "                        <td id=\"T_0473eda9_a883_11eb_9b7a_b5209453efc2row3_col3\" class=\"data row3 col3\" >$1,114.06</td>\n",
       "                        <td id=\"T_0473eda9_a883_11eb_9b7a_b5209453efc2row3_col4\" class=\"data row3 col4\" >$4.32</td>\n",
       "            </tr>\n",
       "            <tr>\n",
       "                                <td id=\"T_0473eda9_a883_11eb_9b7a_b5209453efc2row4_col0\" class=\"data row4 col0\" >25-29</td>\n",
       "                        <td id=\"T_0473eda9_a883_11eb_9b7a_b5209453efc2row4_col1\" class=\"data row4 col1\" >101</td>\n",
       "                        <td id=\"T_0473eda9_a883_11eb_9b7a_b5209453efc2row4_col2\" class=\"data row4 col2\" >$2.90</td>\n",
       "                        <td id=\"T_0473eda9_a883_11eb_9b7a_b5209453efc2row4_col3\" class=\"data row4 col3\" >$293.00</td>\n",
       "                        <td id=\"T_0473eda9_a883_11eb_9b7a_b5209453efc2row4_col4\" class=\"data row4 col4\" >$3.81</td>\n",
       "            </tr>\n",
       "            <tr>\n",
       "                                <td id=\"T_0473eda9_a883_11eb_9b7a_b5209453efc2row5_col0\" class=\"data row5 col0\" >30-34</td>\n",
       "                        <td id=\"T_0473eda9_a883_11eb_9b7a_b5209453efc2row5_col1\" class=\"data row5 col1\" >73</td>\n",
       "                        <td id=\"T_0473eda9_a883_11eb_9b7a_b5209453efc2row5_col2\" class=\"data row5 col2\" >$2.93</td>\n",
       "                        <td id=\"T_0473eda9_a883_11eb_9b7a_b5209453efc2row5_col3\" class=\"data row5 col3\" >$214.00</td>\n",
       "                        <td id=\"T_0473eda9_a883_11eb_9b7a_b5209453efc2row5_col4\" class=\"data row5 col4\" >$4.12</td>\n",
       "            </tr>\n",
       "            <tr>\n",
       "                                <td id=\"T_0473eda9_a883_11eb_9b7a_b5209453efc2row6_col0\" class=\"data row6 col0\" >35-39</td>\n",
       "                        <td id=\"T_0473eda9_a883_11eb_9b7a_b5209453efc2row6_col1\" class=\"data row6 col1\" >41</td>\n",
       "                        <td id=\"T_0473eda9_a883_11eb_9b7a_b5209453efc2row6_col2\" class=\"data row6 col2\" >$3.60</td>\n",
       "                        <td id=\"T_0473eda9_a883_11eb_9b7a_b5209453efc2row6_col3\" class=\"data row6 col3\" >$147.67</td>\n",
       "                        <td id=\"T_0473eda9_a883_11eb_9b7a_b5209453efc2row6_col4\" class=\"data row6 col4\" >$4.76</td>\n",
       "            </tr>\n",
       "            <tr>\n",
       "                                <td id=\"T_0473eda9_a883_11eb_9b7a_b5209453efc2row7_col0\" class=\"data row7 col0\" >>40</td>\n",
       "                        <td id=\"T_0473eda9_a883_11eb_9b7a_b5209453efc2row7_col1\" class=\"data row7 col1\" >12</td>\n",
       "                        <td id=\"T_0473eda9_a883_11eb_9b7a_b5209453efc2row7_col2\" class=\"data row7 col2\" >$3.04</td>\n",
       "                        <td id=\"T_0473eda9_a883_11eb_9b7a_b5209453efc2row7_col3\" class=\"data row7 col3\" >$36.54</td>\n",
       "                        <td id=\"T_0473eda9_a883_11eb_9b7a_b5209453efc2row7_col4\" class=\"data row7 col4\" >$3.32</td>\n",
       "            </tr>\n",
       "    </tbody></table>"
      ],
      "text/plain": [
       "<pandas.io.formats.style.Styler at 0x2ce6dc23c40>"
      ]
     },
     "execution_count": 3872,
     "metadata": {},
     "output_type": "execute_result"
    }
   ],
   "source": [
    "print('Purchasing Analysis (Age)')\n",
    "Age_analysis.style.format(format_dict).hide_index()"
   ]
  },
  {
   "cell_type": "code",
   "execution_count": 3873,
   "metadata": {},
   "outputs": [
    {
     "name": "stdout",
     "output_type": "stream",
     "text": [
      "Top Spenders\n"
     ]
    },
    {
     "data": {
      "text/html": [
       "<style  type=\"text/css\" >\n",
       "</style><table id=\"T_0478cc75_a883_11eb_a817_b5209453efc2\" ><thead>    <tr>        <th class=\"col_heading level0 col0\" >SN</th>        <th class=\"col_heading level0 col1\" >Purchase Count</th>        <th class=\"col_heading level0 col2\" >Average Purchase Price</th>        <th class=\"col_heading level0 col3\" >Total Purchase Value</th>    </tr></thead><tbody>\n",
       "                <tr>\n",
       "                                <td id=\"T_0478cc75_a883_11eb_a817_b5209453efc2row0_col0\" class=\"data row0 col0\" >Lisosia93</td>\n",
       "                        <td id=\"T_0478cc75_a883_11eb_a817_b5209453efc2row0_col1\" class=\"data row0 col1\" >5</td>\n",
       "                        <td id=\"T_0478cc75_a883_11eb_a817_b5209453efc2row0_col2\" class=\"data row0 col2\" >$3.79</td>\n",
       "                        <td id=\"T_0478cc75_a883_11eb_a817_b5209453efc2row0_col3\" class=\"data row0 col3\" >$18.96</td>\n",
       "            </tr>\n",
       "            <tr>\n",
       "                                <td id=\"T_0478cc75_a883_11eb_a817_b5209453efc2row1_col0\" class=\"data row1 col0\" >Idastidru52</td>\n",
       "                        <td id=\"T_0478cc75_a883_11eb_a817_b5209453efc2row1_col1\" class=\"data row1 col1\" >4</td>\n",
       "                        <td id=\"T_0478cc75_a883_11eb_a817_b5209453efc2row1_col2\" class=\"data row1 col2\" >$3.86</td>\n",
       "                        <td id=\"T_0478cc75_a883_11eb_a817_b5209453efc2row1_col3\" class=\"data row1 col3\" >$15.45</td>\n",
       "            </tr>\n",
       "            <tr>\n",
       "                                <td id=\"T_0478cc75_a883_11eb_a817_b5209453efc2row2_col0\" class=\"data row2 col0\" >Chamjask73</td>\n",
       "                        <td id=\"T_0478cc75_a883_11eb_a817_b5209453efc2row2_col1\" class=\"data row2 col1\" >3</td>\n",
       "                        <td id=\"T_0478cc75_a883_11eb_a817_b5209453efc2row2_col2\" class=\"data row2 col2\" >$4.61</td>\n",
       "                        <td id=\"T_0478cc75_a883_11eb_a817_b5209453efc2row2_col3\" class=\"data row2 col3\" >$13.83</td>\n",
       "            </tr>\n",
       "            <tr>\n",
       "                                <td id=\"T_0478cc75_a883_11eb_a817_b5209453efc2row3_col0\" class=\"data row3 col0\" >Iral74</td>\n",
       "                        <td id=\"T_0478cc75_a883_11eb_a817_b5209453efc2row3_col1\" class=\"data row3 col1\" >4</td>\n",
       "                        <td id=\"T_0478cc75_a883_11eb_a817_b5209453efc2row3_col2\" class=\"data row3 col2\" >$3.40</td>\n",
       "                        <td id=\"T_0478cc75_a883_11eb_a817_b5209453efc2row3_col3\" class=\"data row3 col3\" >$13.62</td>\n",
       "            </tr>\n",
       "            <tr>\n",
       "                                <td id=\"T_0478cc75_a883_11eb_a817_b5209453efc2row4_col0\" class=\"data row4 col0\" >Iskadarya95</td>\n",
       "                        <td id=\"T_0478cc75_a883_11eb_a817_b5209453efc2row4_col1\" class=\"data row4 col1\" >3</td>\n",
       "                        <td id=\"T_0478cc75_a883_11eb_a817_b5209453efc2row4_col2\" class=\"data row4 col2\" >$4.37</td>\n",
       "                        <td id=\"T_0478cc75_a883_11eb_a817_b5209453efc2row4_col3\" class=\"data row4 col3\" >$13.10</td>\n",
       "            </tr>\n",
       "    </tbody></table>"
      ],
      "text/plain": [
       "<pandas.io.formats.style.Styler at 0x2ce6dc2b550>"
      ]
     },
     "execution_count": 3873,
     "metadata": {},
     "output_type": "execute_result"
    }
   ],
   "source": [
    "print('Top Spenders')\n",
    "top_spender.head(5).style.format(format_dict).hide_index()"
   ]
  },
  {
   "cell_type": "code",
   "execution_count": 3874,
   "metadata": {},
   "outputs": [
    {
     "name": "stdout",
     "output_type": "stream",
     "text": [
      "Most Popular Items\n"
     ]
    },
    {
     "data": {
      "text/html": [
       "<style  type=\"text/css\" >\n",
       "</style><table id=\"T_047dd1e1_a883_11eb_8746_b5209453efc2\" ><thead>    <tr>        <th class=\"col_heading level0 col0\" >Item ID</th>        <th class=\"col_heading level0 col1\" >Item Name</th>        <th class=\"col_heading level0 col2\" >Purchase Count</th>        <th class=\"col_heading level0 col3\" >Average Purchase Price</th>        <th class=\"col_heading level0 col4\" >Total Purchase Value</th>    </tr></thead><tbody>\n",
       "                <tr>\n",
       "                                <td id=\"T_047dd1e1_a883_11eb_8746_b5209453efc2row0_col0\" class=\"data row0 col0\" >92</td>\n",
       "                        <td id=\"T_047dd1e1_a883_11eb_8746_b5209453efc2row0_col1\" class=\"data row0 col1\" >Final Critic</td>\n",
       "                        <td id=\"T_047dd1e1_a883_11eb_8746_b5209453efc2row0_col2\" class=\"data row0 col2\" >13</td>\n",
       "                        <td id=\"T_047dd1e1_a883_11eb_8746_b5209453efc2row0_col3\" class=\"data row0 col3\" >$4.61</td>\n",
       "                        <td id=\"T_047dd1e1_a883_11eb_8746_b5209453efc2row0_col4\" class=\"data row0 col4\" >$59.99</td>\n",
       "            </tr>\n",
       "            <tr>\n",
       "                                <td id=\"T_047dd1e1_a883_11eb_8746_b5209453efc2row1_col0\" class=\"data row1 col0\" >178</td>\n",
       "                        <td id=\"T_047dd1e1_a883_11eb_8746_b5209453efc2row1_col1\" class=\"data row1 col1\" >Oathbreaker, Last Hope of the Breaking Storm</td>\n",
       "                        <td id=\"T_047dd1e1_a883_11eb_8746_b5209453efc2row1_col2\" class=\"data row1 col2\" >12</td>\n",
       "                        <td id=\"T_047dd1e1_a883_11eb_8746_b5209453efc2row1_col3\" class=\"data row1 col3\" >$4.23</td>\n",
       "                        <td id=\"T_047dd1e1_a883_11eb_8746_b5209453efc2row1_col4\" class=\"data row1 col4\" >$50.76</td>\n",
       "            </tr>\n",
       "            <tr>\n",
       "                                <td id=\"T_047dd1e1_a883_11eb_8746_b5209453efc2row2_col0\" class=\"data row2 col0\" >108</td>\n",
       "                        <td id=\"T_047dd1e1_a883_11eb_8746_b5209453efc2row2_col1\" class=\"data row2 col1\" >Extraction, Quickblade Of Trembling Hands</td>\n",
       "                        <td id=\"T_047dd1e1_a883_11eb_8746_b5209453efc2row2_col2\" class=\"data row2 col2\" >9</td>\n",
       "                        <td id=\"T_047dd1e1_a883_11eb_8746_b5209453efc2row2_col3\" class=\"data row2 col3\" >$3.53</td>\n",
       "                        <td id=\"T_047dd1e1_a883_11eb_8746_b5209453efc2row2_col4\" class=\"data row2 col4\" >$31.77</td>\n",
       "            </tr>\n",
       "            <tr>\n",
       "                                <td id=\"T_047dd1e1_a883_11eb_8746_b5209453efc2row3_col0\" class=\"data row3 col0\" >132</td>\n",
       "                        <td id=\"T_047dd1e1_a883_11eb_8746_b5209453efc2row3_col1\" class=\"data row3 col1\" >Persuasion</td>\n",
       "                        <td id=\"T_047dd1e1_a883_11eb_8746_b5209453efc2row3_col2\" class=\"data row3 col2\" >9</td>\n",
       "                        <td id=\"T_047dd1e1_a883_11eb_8746_b5209453efc2row3_col3\" class=\"data row3 col3\" >$3.22</td>\n",
       "                        <td id=\"T_047dd1e1_a883_11eb_8746_b5209453efc2row3_col4\" class=\"data row3 col4\" >$28.99</td>\n",
       "            </tr>\n",
       "            <tr>\n",
       "                                <td id=\"T_047dd1e1_a883_11eb_8746_b5209453efc2row4_col0\" class=\"data row4 col0\" >82</td>\n",
       "                        <td id=\"T_047dd1e1_a883_11eb_8746_b5209453efc2row4_col1\" class=\"data row4 col1\" >Nirvana</td>\n",
       "                        <td id=\"T_047dd1e1_a883_11eb_8746_b5209453efc2row4_col2\" class=\"data row4 col2\" >9</td>\n",
       "                        <td id=\"T_047dd1e1_a883_11eb_8746_b5209453efc2row4_col3\" class=\"data row4 col3\" >$4.90</td>\n",
       "                        <td id=\"T_047dd1e1_a883_11eb_8746_b5209453efc2row4_col4\" class=\"data row4 col4\" >$44.10</td>\n",
       "            </tr>\n",
       "    </tbody></table>"
      ],
      "text/plain": [
       "<pandas.io.formats.style.Styler at 0x2ce6de07eb0>"
      ]
     },
     "execution_count": 3874,
     "metadata": {},
     "output_type": "execute_result"
    }
   ],
   "source": [
    "print('Most Popular Items')\n",
    "most_poular_item.head(5).style.format(format_dict).hide_index()"
   ]
  },
  {
   "cell_type": "code",
   "execution_count": 3875,
   "metadata": {},
   "outputs": [
    {
     "name": "stdout",
     "output_type": "stream",
     "text": [
      "Most Profitable Items\n"
     ]
    },
    {
     "data": {
      "text/html": [
       "<style  type=\"text/css\" >\n",
       "</style><table id=\"T_048214ce_a883_11eb_9175_b5209453efc2\" ><thead>    <tr>        <th class=\"col_heading level0 col0\" >Item ID</th>        <th class=\"col_heading level0 col1\" >Item Name</th>        <th class=\"col_heading level0 col2\" >Purchase Count</th>        <th class=\"col_heading level0 col3\" >Average Purchase Price</th>        <th class=\"col_heading level0 col4\" >Total Purchase Value</th>    </tr></thead><tbody>\n",
       "                <tr>\n",
       "                                <td id=\"T_048214ce_a883_11eb_9175_b5209453efc2row0_col0\" class=\"data row0 col0\" >92</td>\n",
       "                        <td id=\"T_048214ce_a883_11eb_9175_b5209453efc2row0_col1\" class=\"data row0 col1\" >Final Critic</td>\n",
       "                        <td id=\"T_048214ce_a883_11eb_9175_b5209453efc2row0_col2\" class=\"data row0 col2\" >13</td>\n",
       "                        <td id=\"T_048214ce_a883_11eb_9175_b5209453efc2row0_col3\" class=\"data row0 col3\" >$4.61</td>\n",
       "                        <td id=\"T_048214ce_a883_11eb_9175_b5209453efc2row0_col4\" class=\"data row0 col4\" >$59.99</td>\n",
       "            </tr>\n",
       "            <tr>\n",
       "                                <td id=\"T_048214ce_a883_11eb_9175_b5209453efc2row1_col0\" class=\"data row1 col0\" >178</td>\n",
       "                        <td id=\"T_048214ce_a883_11eb_9175_b5209453efc2row1_col1\" class=\"data row1 col1\" >Oathbreaker, Last Hope of the Breaking Storm</td>\n",
       "                        <td id=\"T_048214ce_a883_11eb_9175_b5209453efc2row1_col2\" class=\"data row1 col2\" >12</td>\n",
       "                        <td id=\"T_048214ce_a883_11eb_9175_b5209453efc2row1_col3\" class=\"data row1 col3\" >$4.23</td>\n",
       "                        <td id=\"T_048214ce_a883_11eb_9175_b5209453efc2row1_col4\" class=\"data row1 col4\" >$50.76</td>\n",
       "            </tr>\n",
       "            <tr>\n",
       "                                <td id=\"T_048214ce_a883_11eb_9175_b5209453efc2row2_col0\" class=\"data row2 col0\" >82</td>\n",
       "                        <td id=\"T_048214ce_a883_11eb_9175_b5209453efc2row2_col1\" class=\"data row2 col1\" >Nirvana</td>\n",
       "                        <td id=\"T_048214ce_a883_11eb_9175_b5209453efc2row2_col2\" class=\"data row2 col2\" >9</td>\n",
       "                        <td id=\"T_048214ce_a883_11eb_9175_b5209453efc2row2_col3\" class=\"data row2 col3\" >$4.90</td>\n",
       "                        <td id=\"T_048214ce_a883_11eb_9175_b5209453efc2row2_col4\" class=\"data row2 col4\" >$44.10</td>\n",
       "            </tr>\n",
       "            <tr>\n",
       "                                <td id=\"T_048214ce_a883_11eb_9175_b5209453efc2row3_col0\" class=\"data row3 col0\" >145</td>\n",
       "                        <td id=\"T_048214ce_a883_11eb_9175_b5209453efc2row3_col1\" class=\"data row3 col1\" >Fiery Glass Crusader</td>\n",
       "                        <td id=\"T_048214ce_a883_11eb_9175_b5209453efc2row3_col2\" class=\"data row3 col2\" >9</td>\n",
       "                        <td id=\"T_048214ce_a883_11eb_9175_b5209453efc2row3_col3\" class=\"data row3 col3\" >$4.58</td>\n",
       "                        <td id=\"T_048214ce_a883_11eb_9175_b5209453efc2row3_col4\" class=\"data row3 col4\" >$41.22</td>\n",
       "            </tr>\n",
       "            <tr>\n",
       "                                <td id=\"T_048214ce_a883_11eb_9175_b5209453efc2row4_col0\" class=\"data row4 col0\" >103</td>\n",
       "                        <td id=\"T_048214ce_a883_11eb_9175_b5209453efc2row4_col1\" class=\"data row4 col1\" >Singed Scalpel</td>\n",
       "                        <td id=\"T_048214ce_a883_11eb_9175_b5209453efc2row4_col2\" class=\"data row4 col2\" >8</td>\n",
       "                        <td id=\"T_048214ce_a883_11eb_9175_b5209453efc2row4_col3\" class=\"data row4 col3\" >$4.35</td>\n",
       "                        <td id=\"T_048214ce_a883_11eb_9175_b5209453efc2row4_col4\" class=\"data row4 col4\" >$34.80</td>\n",
       "            </tr>\n",
       "    </tbody></table>"
      ],
      "text/plain": [
       "<pandas.io.formats.style.Styler at 0x2ce6dd14520>"
      ]
     },
     "execution_count": 3875,
     "metadata": {},
     "output_type": "execute_result"
    }
   ],
   "source": [
    "print('Most Profitable Items')\n",
    "most_profitable_item.head(5).style.format(format_dict).hide_index()"
   ]
  }
 ],
 "metadata": {
  "kernelspec": {
   "display_name": "Python 3",
   "language": "python",
   "name": "python3"
  },
  "language_info": {
   "codemirror_mode": {
    "name": "ipython",
    "version": 3
   },
   "file_extension": ".py",
   "mimetype": "text/x-python",
   "name": "python",
   "nbconvert_exporter": "python",
   "pygments_lexer": "ipython3",
   "version": "3.8.5"
  }
 },
 "nbformat": 4,
 "nbformat_minor": 4
}
