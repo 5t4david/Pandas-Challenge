{
 "cells": [
  {
   "cell_type": "code",
   "execution_count": 3388,
   "metadata": {},
   "outputs": [],
   "source": [
    "import os\n",
    "import csv\n",
    "import pandas as pd\n",
    "import numpy as np"
   ]
  },
  {
   "cell_type": "code",
   "execution_count": 3389,
   "metadata": {},
   "outputs": [],
   "source": [
    "csvpath = os.path.join('..', 'HeroesOfPyMoli', 'purchase_data.csv')"
   ]
  },
  {
   "cell_type": "code",
   "execution_count": 3390,
   "metadata": {},
   "outputs": [],
   "source": [
    "with open(csvpath) as csvfile:\n",
    "    csvreader2 = csv.reader(csvfile, delimiter=',')\n",
    "    for row in csvreader2:\n",
    "        pmoli = pd.DataFrame(csvreader2, columns = ['Purchase ID','SN','Age','Gender','Item ID','Item Name','Price'])"
   ]
  },
  {
   "cell_type": "code",
   "execution_count": 3391,
   "metadata": {
    "scrolled": true
   },
   "outputs": [],
   "source": [
    "total_player = (len(pmoli.iloc[:,1].unique()))\n",
    "total_game = (len(pmoli.iloc[:,4].unique()))\n",
    "pmoli.loc[:,\"Price\"] = pmoli[\"Price\"].astype(\"float\")\n",
    "pmoli.loc[:,\"Age\"] = pmoli[\"Age\"].astype(\"int\")\n",
    "avr_price = ('${0:,.2f}'.format(pmoli[\"Price\"].mean()))\n",
    "pmoli_purchase = (len(pmoli))\n",
    "pmoli_revenue = ('${0:,.2f}'.format(pmoli[\"Price\"].sum()))"
   ]
  },
  {
   "cell_type": "code",
   "execution_count": 3392,
   "metadata": {},
   "outputs": [],
   "source": [
    "pmoli_male_df = pmoli.loc[pmoli[\"Gender\"] == \"Male\"]\n",
    "male_player = (len(pmoli_male_df.iloc[:,1].unique()))\n",
    "percent_male = (\"{:.2f}\".format((int(male_player)/int(total_player))*100))\n",
    "pmoli_female_df = pmoli.loc[pmoli[\"Gender\"] == \"Female\"]\n",
    "female_player = (len(pmoli_female_df.iloc[:,1].unique()))\n",
    "percent_female = (\"{:.2f}\".format((int(female_player)/int(total_player))*100))\n",
    "pmoli_unknown_df = pmoli.loc[pmoli[\"Gender\"] == \"Other / Non-Disclosed\"]\n",
    "unknown_player = (len(pmoli_unknown_df.iloc[:,1].unique()))\n",
    "percent_unknown = (\"{:.2f}\".format((int(pmoli_unknown)/int(total_player))*100))"
   ]
  },
  {
   "cell_type": "code",
   "execution_count": 3393,
   "metadata": {},
   "outputs": [],
   "source": [
    "male_purchase = (len(pmoli_male_df))\n",
    "male_avr = (pmoli_male_df[\"Price\"].mean())\n",
    "male_revenue = (pmoli_male_df[\"Price\"].sum())\n",
    "avr_pur_male = ((male_purchase/male_player)*male_avr)\n",
    "female_purchase = (len(pmoli_female_df))\n",
    "female_avr = (pmoli_female_df[\"Price\"].mean())\n",
    "female_revenue = (pmoli_female_df[\"Price\"].sum())\n",
    "avr_pur_female = ((female_purchase/female_player)*female_avr)\n",
    "unknown_purchase = (len(pmoli_unknown_df))\n",
    "unknown_avr = (pmoli_unknown_df[\"Price\"].mean())\n",
    "unknown_revenue = (pmoli_unknown_df[\"Price\"].sum())\n",
    "avr_pur_unknown = ((unknown_purchase/unknown_player)*unknown_avr)"
   ]
  },
  {
   "cell_type": "code",
   "execution_count": 3394,
   "metadata": {},
   "outputs": [],
   "source": [
    "bins = [0,9,14,19,24,29,34,39,44]\n",
    "group_labels = [\"<10\",\"10-14\",\"15-19\",\"20-24\",\"25-29\",\"30-34\",\"35-39\",\">40\"]"
   ]
  },
  {
   "cell_type": "code",
   "execution_count": 3395,
   "metadata": {},
   "outputs": [],
   "source": [
    "pmoli[\"Age Bracket\"] = pd.cut(pmoli[\"Age\"], bins, labels= group_labels, include_lowest=True)\n",
    "pmoli_group = pmoli.groupby('Age Bracket')\n",
    "purchase_count = pd.DataFrame(pmoli_group[\"SN\"].count())\n",
    "purchase_df = purchase_count.rename(columns={\"SN\":\"Purchase Count\"})\n",
    "mean_price = pd.DataFrame(pmoli_group[\"Price\"].mean())\n",
    "mean_df = mean_price.rename(columns={\"Price\":\"Average Purchase Price\"})\n",
    "sum_price = pd.DataFrame(pmoli_group[\"Price\"].sum())\n",
    "sum_df = sum_price.rename(columns={\"Price\":\"Total Purchase Value\"})\n",
    "player_count = pd.DataFrame(pmoli_group[\"SN\"].nunique())\n",
    "player_ct = player_count.rename(columns={player_count.columns[0]:\"Total Player\"})\n",
    "avr_pur_group = pd.DataFrame((sum_price.iloc[:,0])/(player_count.iloc[:,0]))\n",
    "player_df = avr_pur_group.rename(columns={avr_pur_group.columns[0]:\"Average Total Per Player\"})"
   ]
  },
  {
   "cell_type": "code",
   "execution_count": 3396,
   "metadata": {},
   "outputs": [],
   "source": [
    "Age_dm = pd.DataFrame(((player_count.iloc[:,0])/(total_player))*100)\n",
    "Age_demo = Age_dm.rename(columns={Age_dm.columns[0]:\"Percentage of Players\"})"
   ]
  },
  {
   "cell_type": "code",
   "execution_count": 3397,
   "metadata": {},
   "outputs": [],
   "source": [
    "format_dict = {'Average Purchase Price':'${0:,.2f}', 'Avg Total Purchase Per Person':'${0:,.2f}',\n",
    "               'Total Purchase Value':'${0:,.2f}', 'Average Total Per Player':'${0:,.2f}',\n",
    "              'Percentage of Players':'{:,2%}'}"
   ]
  },
  {
   "cell_type": "code",
   "execution_count": 3398,
   "metadata": {
    "scrolled": true
   },
   "outputs": [
    {
     "data": {
      "text/html": [
       "<div>\n",
       "<style scoped>\n",
       "    .dataframe tbody tr th:only-of-type {\n",
       "        vertical-align: middle;\n",
       "    }\n",
       "\n",
       "    .dataframe tbody tr th {\n",
       "        vertical-align: top;\n",
       "    }\n",
       "\n",
       "    .dataframe thead th {\n",
       "        text-align: right;\n",
       "    }\n",
       "</style>\n",
       "<table border=\"1\" class=\"dataframe\">\n",
       "  <thead>\n",
       "    <tr style=\"text-align: right;\">\n",
       "      <th></th>\n",
       "      <th>Total Players</th>\n",
       "    </tr>\n",
       "  </thead>\n",
       "  <tbody>\n",
       "    <tr>\n",
       "      <th>0</th>\n",
       "      <td>576</td>\n",
       "    </tr>\n",
       "  </tbody>\n",
       "</table>\n",
       "</div>"
      ],
      "text/plain": [
       "   Total Players\n",
       "0            576"
      ]
     },
     "execution_count": 3398,
     "metadata": {},
     "output_type": "execute_result"
    }
   ],
   "source": [
    "all_df = pd.DataFrame({\"Total Players\":[total_player]})\n",
    "all_df"
   ]
  },
  {
   "cell_type": "code",
   "execution_count": 3399,
   "metadata": {},
   "outputs": [
    {
     "data": {
      "text/html": [
       "<div>\n",
       "<style scoped>\n",
       "    .dataframe tbody tr th:only-of-type {\n",
       "        vertical-align: middle;\n",
       "    }\n",
       "\n",
       "    .dataframe tbody tr th {\n",
       "        vertical-align: top;\n",
       "    }\n",
       "\n",
       "    .dataframe thead th {\n",
       "        text-align: right;\n",
       "    }\n",
       "</style>\n",
       "<table border=\"1\" class=\"dataframe\">\n",
       "  <thead>\n",
       "    <tr style=\"text-align: right;\">\n",
       "      <th></th>\n",
       "      <th>Number of Unique Items</th>\n",
       "      <th>Average Price</th>\n",
       "      <th>Number of Purchases</th>\n",
       "      <th>Total Revenue</th>\n",
       "    </tr>\n",
       "  </thead>\n",
       "  <tbody>\n",
       "    <tr>\n",
       "      <th>0</th>\n",
       "      <td>179</td>\n",
       "      <td>$3.05</td>\n",
       "      <td>780</td>\n",
       "      <td>$2,379.77</td>\n",
       "    </tr>\n",
       "  </tbody>\n",
       "</table>\n",
       "</div>"
      ],
      "text/plain": [
       "   Number of Unique Items Average Price  Number of Purchases Total Revenue\n",
       "0                     179         $3.05                  780     $2,379.77"
      ]
     },
     "execution_count": 3399,
     "metadata": {},
     "output_type": "execute_result"
    }
   ],
   "source": [
    "Purchasing_an = pd.DataFrame({\"Number of Unique Items\":[total_game],\"Average Price\":[avr_price],\n",
    "                          \"Number of Purchases\":[pmoli_purchase],\n",
    "                              \"Total Revenue\":[pmoli_revenue]})\n",
    "Purchasing_an "
   ]
  },
  {
   "cell_type": "code",
   "execution_count": 3400,
   "metadata": {},
   "outputs": [
    {
     "data": {
      "text/html": [
       "<style  type=\"text/css\" >\n",
       "</style><table id=\"T_a2aa33d6_a7d9_11eb_b71c_b5209453efc2\" ><thead>    <tr>        <th class=\"blank level0\" ></th>        <th class=\"col_heading level0 col0\" >Purchase Count</th>        <th class=\"col_heading level0 col1\" >Average Purchase Price</th>        <th class=\"col_heading level0 col2\" >Total Purchase Value</th>        <th class=\"col_heading level0 col3\" >Avg Total Purchase Per Person</th>    </tr></thead><tbody>\n",
       "                <tr>\n",
       "                        <th id=\"T_a2aa33d6_a7d9_11eb_b71c_b5209453efc2level0_row0\" class=\"row_heading level0 row0\" >Male</th>\n",
       "                        <td id=\"T_a2aa33d6_a7d9_11eb_b71c_b5209453efc2row0_col0\" class=\"data row0 col0\" >652</td>\n",
       "                        <td id=\"T_a2aa33d6_a7d9_11eb_b71c_b5209453efc2row0_col1\" class=\"data row0 col1\" >$3.02</td>\n",
       "                        <td id=\"T_a2aa33d6_a7d9_11eb_b71c_b5209453efc2row0_col2\" class=\"data row0 col2\" >$1,967.64</td>\n",
       "                        <td id=\"T_a2aa33d6_a7d9_11eb_b71c_b5209453efc2row0_col3\" class=\"data row0 col3\" >$4.07</td>\n",
       "            </tr>\n",
       "            <tr>\n",
       "                        <th id=\"T_a2aa33d6_a7d9_11eb_b71c_b5209453efc2level0_row1\" class=\"row_heading level0 row1\" >Female</th>\n",
       "                        <td id=\"T_a2aa33d6_a7d9_11eb_b71c_b5209453efc2row1_col0\" class=\"data row1 col0\" >113</td>\n",
       "                        <td id=\"T_a2aa33d6_a7d9_11eb_b71c_b5209453efc2row1_col1\" class=\"data row1 col1\" >$3.20</td>\n",
       "                        <td id=\"T_a2aa33d6_a7d9_11eb_b71c_b5209453efc2row1_col2\" class=\"data row1 col2\" >$361.94</td>\n",
       "                        <td id=\"T_a2aa33d6_a7d9_11eb_b71c_b5209453efc2row1_col3\" class=\"data row1 col3\" >$4.47</td>\n",
       "            </tr>\n",
       "            <tr>\n",
       "                        <th id=\"T_a2aa33d6_a7d9_11eb_b71c_b5209453efc2level0_row2\" class=\"row_heading level0 row2\" >Other/Undisclosed</th>\n",
       "                        <td id=\"T_a2aa33d6_a7d9_11eb_b71c_b5209453efc2row2_col0\" class=\"data row2 col0\" >15</td>\n",
       "                        <td id=\"T_a2aa33d6_a7d9_11eb_b71c_b5209453efc2row2_col1\" class=\"data row2 col1\" >$3.35</td>\n",
       "                        <td id=\"T_a2aa33d6_a7d9_11eb_b71c_b5209453efc2row2_col2\" class=\"data row2 col2\" >$50.19</td>\n",
       "                        <td id=\"T_a2aa33d6_a7d9_11eb_b71c_b5209453efc2row2_col3\" class=\"data row2 col3\" >$4.56</td>\n",
       "            </tr>\n",
       "    </tbody></table>"
      ],
      "text/plain": [
       "<pandas.io.formats.style.Styler at 0x2ce6d94e1c0>"
      ]
     },
     "execution_count": 3400,
     "metadata": {},
     "output_type": "execute_result"
    }
   ],
   "source": [
    "Purchasing_an_gd = pd.DataFrame({\"Purchase Count\":[male_purchase,female_purchase,unknown_purchase],\n",
    "                                 \"Average Purchase Price\":[male_avr,female_avr,unknown_avr],\n",
    "                          \"Total Purchase Value\":[male_revenue,female_revenue,unknown_revenue],\n",
    "                              \"Avg Total Purchase Per Person\":[avr_pur_male,avr_pur_female,avr_pur_unknown]},\n",
    "                               index=[\"Male\",\"Female\",\"Other/Undisclosed\"])\n",
    "Purchasing_an_gd.style.format(format_dict)"
   ]
  },
  {
   "cell_type": "code",
   "execution_count": 3401,
   "metadata": {
    "scrolled": true
   },
   "outputs": [
    {
     "data": {
      "text/html": [
       "<div>\n",
       "<style scoped>\n",
       "    .dataframe tbody tr th:only-of-type {\n",
       "        vertical-align: middle;\n",
       "    }\n",
       "\n",
       "    .dataframe tbody tr th {\n",
       "        vertical-align: top;\n",
       "    }\n",
       "\n",
       "    .dataframe thead th {\n",
       "        text-align: right;\n",
       "    }\n",
       "</style>\n",
       "<table border=\"1\" class=\"dataframe\">\n",
       "  <thead>\n",
       "    <tr style=\"text-align: right;\">\n",
       "      <th></th>\n",
       "      <th>Total Count</th>\n",
       "      <th>Percentage of Gender</th>\n",
       "    </tr>\n",
       "  </thead>\n",
       "  <tbody>\n",
       "    <tr>\n",
       "      <th>Male</th>\n",
       "      <td>484</td>\n",
       "      <td>84.03%</td>\n",
       "    </tr>\n",
       "    <tr>\n",
       "      <th>Female</th>\n",
       "      <td>81</td>\n",
       "      <td>14.06%</td>\n",
       "    </tr>\n",
       "    <tr>\n",
       "      <th>Other/Undisclosed</th>\n",
       "      <td>11</td>\n",
       "      <td>2.60%</td>\n",
       "    </tr>\n",
       "  </tbody>\n",
       "</table>\n",
       "</div>"
      ],
      "text/plain": [
       "                   Total Count Percentage of Gender\n",
       "Male                       484               84.03%\n",
       "Female                      81               14.06%\n",
       "Other/Undisclosed           11                2.60%"
      ]
     },
     "execution_count": 3401,
     "metadata": {},
     "output_type": "execute_result"
    }
   ],
   "source": [
    "Gender_df = pd.DataFrame({\"Total Count\":[male_player,female_player,unknown_player],\n",
    "                          \"Percentage of Gender\":[percent_male,percent_female,percent_unknown]},\n",
    "                         index=[\"Male\",\"Female\",\"Other/Undisclosed\"])   \n",
    "Gender_df[\"Percentage of Gender\"]= Gender_df[\"Percentage of Gender\"] + '%'\n",
    "Gender_df"
   ]
  },
  {
   "cell_type": "code",
   "execution_count": 3402,
   "metadata": {},
   "outputs": [
    {
     "ename": "KeyError",
     "evalue": "'0,'",
     "output_type": "error",
     "traceback": [
      "\u001b[1;31m---------------------------------------------------------------------------\u001b[0m",
      "\u001b[1;31mKeyError\u001b[0m                                  Traceback (most recent call last)",
      "\u001b[1;32m~\\anaconda3\\lib\\site-packages\\IPython\\core\\formatters.py\u001b[0m in \u001b[0;36m__call__\u001b[1;34m(self, obj)\u001b[0m\n\u001b[0;32m    343\u001b[0m             \u001b[0mmethod\u001b[0m \u001b[1;33m=\u001b[0m \u001b[0mget_real_method\u001b[0m\u001b[1;33m(\u001b[0m\u001b[0mobj\u001b[0m\u001b[1;33m,\u001b[0m \u001b[0mself\u001b[0m\u001b[1;33m.\u001b[0m\u001b[0mprint_method\u001b[0m\u001b[1;33m)\u001b[0m\u001b[1;33m\u001b[0m\u001b[1;33m\u001b[0m\u001b[0m\n\u001b[0;32m    344\u001b[0m             \u001b[1;32mif\u001b[0m \u001b[0mmethod\u001b[0m \u001b[1;32mis\u001b[0m \u001b[1;32mnot\u001b[0m \u001b[1;32mNone\u001b[0m\u001b[1;33m:\u001b[0m\u001b[1;33m\u001b[0m\u001b[1;33m\u001b[0m\u001b[0m\n\u001b[1;32m--> 345\u001b[1;33m                 \u001b[1;32mreturn\u001b[0m \u001b[0mmethod\u001b[0m\u001b[1;33m(\u001b[0m\u001b[1;33m)\u001b[0m\u001b[1;33m\u001b[0m\u001b[1;33m\u001b[0m\u001b[0m\n\u001b[0m\u001b[0;32m    346\u001b[0m             \u001b[1;32mreturn\u001b[0m \u001b[1;32mNone\u001b[0m\u001b[1;33m\u001b[0m\u001b[1;33m\u001b[0m\u001b[0m\n\u001b[0;32m    347\u001b[0m         \u001b[1;32melse\u001b[0m\u001b[1;33m:\u001b[0m\u001b[1;33m\u001b[0m\u001b[1;33m\u001b[0m\u001b[0m\n",
      "\u001b[1;32m~\\anaconda3\\lib\\site-packages\\pandas\\io\\formats\\style.py\u001b[0m in \u001b[0;36m_repr_html_\u001b[1;34m(self)\u001b[0m\n\u001b[0;32m    191\u001b[0m         \u001b[0mHooks\u001b[0m \u001b[0minto\u001b[0m \u001b[0mJupyter\u001b[0m \u001b[0mnotebook\u001b[0m \u001b[0mrich\u001b[0m \u001b[0mdisplay\u001b[0m \u001b[0msystem\u001b[0m\u001b[1;33m.\u001b[0m\u001b[1;33m\u001b[0m\u001b[1;33m\u001b[0m\u001b[0m\n\u001b[0;32m    192\u001b[0m         \"\"\"\n\u001b[1;32m--> 193\u001b[1;33m         \u001b[1;32mreturn\u001b[0m \u001b[0mself\u001b[0m\u001b[1;33m.\u001b[0m\u001b[0mrender\u001b[0m\u001b[1;33m(\u001b[0m\u001b[1;33m)\u001b[0m\u001b[1;33m\u001b[0m\u001b[1;33m\u001b[0m\u001b[0m\n\u001b[0m\u001b[0;32m    194\u001b[0m \u001b[1;33m\u001b[0m\u001b[0m\n\u001b[0;32m    195\u001b[0m     \u001b[1;33m@\u001b[0m\u001b[0mdoc\u001b[0m\u001b[1;33m(\u001b[0m\u001b[0mNDFrame\u001b[0m\u001b[1;33m.\u001b[0m\u001b[0mto_excel\u001b[0m\u001b[1;33m,\u001b[0m \u001b[0mklass\u001b[0m\u001b[1;33m=\u001b[0m\u001b[1;34m\"Styler\"\u001b[0m\u001b[1;33m)\u001b[0m\u001b[1;33m\u001b[0m\u001b[1;33m\u001b[0m\u001b[0m\n",
      "\u001b[1;32m~\\anaconda3\\lib\\site-packages\\pandas\\io\\formats\\style.py\u001b[0m in \u001b[0;36mrender\u001b[1;34m(self, **kwargs)\u001b[0m\n\u001b[0;32m    540\u001b[0m         \u001b[0mself\u001b[0m\u001b[1;33m.\u001b[0m\u001b[0m_compute\u001b[0m\u001b[1;33m(\u001b[0m\u001b[1;33m)\u001b[0m\u001b[1;33m\u001b[0m\u001b[1;33m\u001b[0m\u001b[0m\n\u001b[0;32m    541\u001b[0m         \u001b[1;31m# TODO: namespace all the pandas keys\u001b[0m\u001b[1;33m\u001b[0m\u001b[1;33m\u001b[0m\u001b[1;33m\u001b[0m\u001b[0m\n\u001b[1;32m--> 542\u001b[1;33m         \u001b[0md\u001b[0m \u001b[1;33m=\u001b[0m \u001b[0mself\u001b[0m\u001b[1;33m.\u001b[0m\u001b[0m_translate\u001b[0m\u001b[1;33m(\u001b[0m\u001b[1;33m)\u001b[0m\u001b[1;33m\u001b[0m\u001b[1;33m\u001b[0m\u001b[0m\n\u001b[0m\u001b[0;32m    543\u001b[0m         \u001b[1;31m# filter out empty styles, every cell will have a class\u001b[0m\u001b[1;33m\u001b[0m\u001b[1;33m\u001b[0m\u001b[1;33m\u001b[0m\u001b[0m\n\u001b[0;32m    544\u001b[0m         \u001b[1;31m# but the list of props may just be [['', '']].\u001b[0m\u001b[1;33m\u001b[0m\u001b[1;33m\u001b[0m\u001b[1;33m\u001b[0m\u001b[0m\n",
      "\u001b[1;32m~\\anaconda3\\lib\\site-packages\\pandas\\io\\formats\\style.py\u001b[0m in \u001b[0;36m_translate\u001b[1;34m(self)\u001b[0m\n\u001b[0;32m    387\u001b[0m                     \u001b[1;34m\"value\"\u001b[0m\u001b[1;33m:\u001b[0m \u001b[0mvalue\u001b[0m\u001b[1;33m,\u001b[0m\u001b[1;33m\u001b[0m\u001b[1;33m\u001b[0m\u001b[0m\n\u001b[0;32m    388\u001b[0m                     \u001b[1;34m\"class\"\u001b[0m\u001b[1;33m:\u001b[0m \u001b[1;34m\" \"\u001b[0m\u001b[1;33m.\u001b[0m\u001b[0mjoin\u001b[0m\u001b[1;33m(\u001b[0m\u001b[0mcs\u001b[0m\u001b[1;33m)\u001b[0m\u001b[1;33m,\u001b[0m\u001b[1;33m\u001b[0m\u001b[1;33m\u001b[0m\u001b[0m\n\u001b[1;32m--> 389\u001b[1;33m                     \u001b[1;34m\"display_value\"\u001b[0m\u001b[1;33m:\u001b[0m \u001b[0mformatter\u001b[0m\u001b[1;33m(\u001b[0m\u001b[0mvalue\u001b[0m\u001b[1;33m)\u001b[0m\u001b[1;33m,\u001b[0m\u001b[1;33m\u001b[0m\u001b[1;33m\u001b[0m\u001b[0m\n\u001b[0m\u001b[0;32m    390\u001b[0m                     \u001b[1;34m\"is_visible\"\u001b[0m\u001b[1;33m:\u001b[0m \u001b[1;33m(\u001b[0m\u001b[0mc\u001b[0m \u001b[1;32mnot\u001b[0m \u001b[1;32min\u001b[0m \u001b[0mhidden_columns\u001b[0m\u001b[1;33m)\u001b[0m\u001b[1;33m,\u001b[0m\u001b[1;33m\u001b[0m\u001b[1;33m\u001b[0m\u001b[0m\n\u001b[0;32m    391\u001b[0m                 }\n",
      "\u001b[1;32m~\\anaconda3\\lib\\site-packages\\pandas\\io\\formats\\style.py\u001b[0m in \u001b[0;36m<lambda>\u001b[1;34m(x)\u001b[0m\n\u001b[0;32m   1574\u001b[0m ) -> Callable:\n\u001b[0;32m   1575\u001b[0m     \u001b[1;32mif\u001b[0m \u001b[0misinstance\u001b[0m\u001b[1;33m(\u001b[0m\u001b[0mformatter\u001b[0m\u001b[1;33m,\u001b[0m \u001b[0mstr\u001b[0m\u001b[1;33m)\u001b[0m\u001b[1;33m:\u001b[0m\u001b[1;33m\u001b[0m\u001b[1;33m\u001b[0m\u001b[0m\n\u001b[1;32m-> 1576\u001b[1;33m         \u001b[0mformatter_func\u001b[0m \u001b[1;33m=\u001b[0m \u001b[1;32mlambda\u001b[0m \u001b[0mx\u001b[0m\u001b[1;33m:\u001b[0m \u001b[0mformatter\u001b[0m\u001b[1;33m.\u001b[0m\u001b[0mformat\u001b[0m\u001b[1;33m(\u001b[0m\u001b[0mx\u001b[0m\u001b[1;33m)\u001b[0m\u001b[1;33m\u001b[0m\u001b[1;33m\u001b[0m\u001b[0m\n\u001b[0m\u001b[0;32m   1577\u001b[0m     \u001b[1;32melif\u001b[0m \u001b[0mcallable\u001b[0m\u001b[1;33m(\u001b[0m\u001b[0mformatter\u001b[0m\u001b[1;33m)\u001b[0m\u001b[1;33m:\u001b[0m\u001b[1;33m\u001b[0m\u001b[1;33m\u001b[0m\u001b[0m\n\u001b[0;32m   1578\u001b[0m         \u001b[0mformatter_func\u001b[0m \u001b[1;33m=\u001b[0m \u001b[0mformatter\u001b[0m\u001b[1;33m\u001b[0m\u001b[1;33m\u001b[0m\u001b[0m\n",
      "\u001b[1;31mKeyError\u001b[0m: '0,'"
     ]
    },
    {
     "data": {
      "text/plain": [
       "<pandas.io.formats.style.Styler at 0x2ce6d9263a0>"
      ]
     },
     "execution_count": 3402,
     "metadata": {},
     "output_type": "execute_result"
    }
   ],
   "source": [
    "Age_dem = pd.concat([player_ct, Age_demo], axis=1, join=\"inner\").reset_index()\n",
    "Age_dem.style.format(format_dict).hide_index()"
   ]
  },
  {
   "cell_type": "code",
   "execution_count": 3403,
   "metadata": {
    "scrolled": true
   },
   "outputs": [
    {
     "data": {
      "text/html": [
       "<style  type=\"text/css\" >\n",
       "</style><table id=\"T_a2bc2d94_a7d9_11eb_b52e_b5209453efc2\" ><thead>    <tr>        <th class=\"col_heading level0 col0\" >Age Bracket</th>        <th class=\"col_heading level0 col1\" >Purchase Count</th>        <th class=\"col_heading level0 col2\" >Average Purchase Price</th>        <th class=\"col_heading level0 col3\" >Total Purchase Value</th>        <th class=\"col_heading level0 col4\" >Average Total Per Player</th>    </tr></thead><tbody>\n",
       "                <tr>\n",
       "                                <td id=\"T_a2bc2d94_a7d9_11eb_b52e_b5209453efc2row0_col0\" class=\"data row0 col0\" ><10</td>\n",
       "                        <td id=\"T_a2bc2d94_a7d9_11eb_b52e_b5209453efc2row0_col1\" class=\"data row0 col1\" >23</td>\n",
       "                        <td id=\"T_a2bc2d94_a7d9_11eb_b52e_b5209453efc2row0_col2\" class=\"data row0 col2\" >$3.35</td>\n",
       "                        <td id=\"T_a2bc2d94_a7d9_11eb_b52e_b5209453efc2row0_col3\" class=\"data row0 col3\" >$77.13</td>\n",
       "                        <td id=\"T_a2bc2d94_a7d9_11eb_b52e_b5209453efc2row0_col4\" class=\"data row0 col4\" >$4.54</td>\n",
       "            </tr>\n",
       "            <tr>\n",
       "                                <td id=\"T_a2bc2d94_a7d9_11eb_b52e_b5209453efc2row1_col0\" class=\"data row1 col0\" >10-14</td>\n",
       "                        <td id=\"T_a2bc2d94_a7d9_11eb_b52e_b5209453efc2row1_col1\" class=\"data row1 col1\" >28</td>\n",
       "                        <td id=\"T_a2bc2d94_a7d9_11eb_b52e_b5209453efc2row1_col2\" class=\"data row1 col2\" >$2.96</td>\n",
       "                        <td id=\"T_a2bc2d94_a7d9_11eb_b52e_b5209453efc2row1_col3\" class=\"data row1 col3\" >$82.78</td>\n",
       "                        <td id=\"T_a2bc2d94_a7d9_11eb_b52e_b5209453efc2row1_col4\" class=\"data row1 col4\" >$3.76</td>\n",
       "            </tr>\n",
       "            <tr>\n",
       "                                <td id=\"T_a2bc2d94_a7d9_11eb_b52e_b5209453efc2row2_col0\" class=\"data row2 col0\" >15-19</td>\n",
       "                        <td id=\"T_a2bc2d94_a7d9_11eb_b52e_b5209453efc2row2_col1\" class=\"data row2 col1\" >136</td>\n",
       "                        <td id=\"T_a2bc2d94_a7d9_11eb_b52e_b5209453efc2row2_col2\" class=\"data row2 col2\" >$3.04</td>\n",
       "                        <td id=\"T_a2bc2d94_a7d9_11eb_b52e_b5209453efc2row2_col3\" class=\"data row2 col3\" >$412.89</td>\n",
       "                        <td id=\"T_a2bc2d94_a7d9_11eb_b52e_b5209453efc2row2_col4\" class=\"data row2 col4\" >$3.86</td>\n",
       "            </tr>\n",
       "            <tr>\n",
       "                                <td id=\"T_a2bc2d94_a7d9_11eb_b52e_b5209453efc2row3_col0\" class=\"data row3 col0\" >20-24</td>\n",
       "                        <td id=\"T_a2bc2d94_a7d9_11eb_b52e_b5209453efc2row3_col1\" class=\"data row3 col1\" >365</td>\n",
       "                        <td id=\"T_a2bc2d94_a7d9_11eb_b52e_b5209453efc2row3_col2\" class=\"data row3 col2\" >$3.05</td>\n",
       "                        <td id=\"T_a2bc2d94_a7d9_11eb_b52e_b5209453efc2row3_col3\" class=\"data row3 col3\" >$1,114.06</td>\n",
       "                        <td id=\"T_a2bc2d94_a7d9_11eb_b52e_b5209453efc2row3_col4\" class=\"data row3 col4\" >$4.32</td>\n",
       "            </tr>\n",
       "            <tr>\n",
       "                                <td id=\"T_a2bc2d94_a7d9_11eb_b52e_b5209453efc2row4_col0\" class=\"data row4 col0\" >25-29</td>\n",
       "                        <td id=\"T_a2bc2d94_a7d9_11eb_b52e_b5209453efc2row4_col1\" class=\"data row4 col1\" >101</td>\n",
       "                        <td id=\"T_a2bc2d94_a7d9_11eb_b52e_b5209453efc2row4_col2\" class=\"data row4 col2\" >$2.90</td>\n",
       "                        <td id=\"T_a2bc2d94_a7d9_11eb_b52e_b5209453efc2row4_col3\" class=\"data row4 col3\" >$293.00</td>\n",
       "                        <td id=\"T_a2bc2d94_a7d9_11eb_b52e_b5209453efc2row4_col4\" class=\"data row4 col4\" >$3.81</td>\n",
       "            </tr>\n",
       "            <tr>\n",
       "                                <td id=\"T_a2bc2d94_a7d9_11eb_b52e_b5209453efc2row5_col0\" class=\"data row5 col0\" >30-34</td>\n",
       "                        <td id=\"T_a2bc2d94_a7d9_11eb_b52e_b5209453efc2row5_col1\" class=\"data row5 col1\" >73</td>\n",
       "                        <td id=\"T_a2bc2d94_a7d9_11eb_b52e_b5209453efc2row5_col2\" class=\"data row5 col2\" >$2.93</td>\n",
       "                        <td id=\"T_a2bc2d94_a7d9_11eb_b52e_b5209453efc2row5_col3\" class=\"data row5 col3\" >$214.00</td>\n",
       "                        <td id=\"T_a2bc2d94_a7d9_11eb_b52e_b5209453efc2row5_col4\" class=\"data row5 col4\" >$4.12</td>\n",
       "            </tr>\n",
       "            <tr>\n",
       "                                <td id=\"T_a2bc2d94_a7d9_11eb_b52e_b5209453efc2row6_col0\" class=\"data row6 col0\" >35-39</td>\n",
       "                        <td id=\"T_a2bc2d94_a7d9_11eb_b52e_b5209453efc2row6_col1\" class=\"data row6 col1\" >41</td>\n",
       "                        <td id=\"T_a2bc2d94_a7d9_11eb_b52e_b5209453efc2row6_col2\" class=\"data row6 col2\" >$3.60</td>\n",
       "                        <td id=\"T_a2bc2d94_a7d9_11eb_b52e_b5209453efc2row6_col3\" class=\"data row6 col3\" >$147.67</td>\n",
       "                        <td id=\"T_a2bc2d94_a7d9_11eb_b52e_b5209453efc2row6_col4\" class=\"data row6 col4\" >$4.76</td>\n",
       "            </tr>\n",
       "            <tr>\n",
       "                                <td id=\"T_a2bc2d94_a7d9_11eb_b52e_b5209453efc2row7_col0\" class=\"data row7 col0\" >>40</td>\n",
       "                        <td id=\"T_a2bc2d94_a7d9_11eb_b52e_b5209453efc2row7_col1\" class=\"data row7 col1\" >12</td>\n",
       "                        <td id=\"T_a2bc2d94_a7d9_11eb_b52e_b5209453efc2row7_col2\" class=\"data row7 col2\" >$3.04</td>\n",
       "                        <td id=\"T_a2bc2d94_a7d9_11eb_b52e_b5209453efc2row7_col3\" class=\"data row7 col3\" >$36.54</td>\n",
       "                        <td id=\"T_a2bc2d94_a7d9_11eb_b52e_b5209453efc2row7_col4\" class=\"data row7 col4\" >$3.32</td>\n",
       "            </tr>\n",
       "    </tbody></table>"
      ],
      "text/plain": [
       "<pandas.io.formats.style.Styler at 0x2ce6d94ef40>"
      ]
     },
     "execution_count": 3403,
     "metadata": {},
     "output_type": "execute_result"
    }
   ],
   "source": [
    "df = pd.concat([purchase_df,mean_df,sum_df,player_df], axis=1, join=\"inner\").reset_index()\n",
    "Age_analysis = pd.DataFrame(df)\n",
    "Age_analysis.style.format(format_dict).hide_index()"
   ]
  },
  {
   "cell_type": "code",
   "execution_count": 3404,
   "metadata": {},
   "outputs": [
    {
     "name": "stdout",
     "output_type": "stream",
     "text": [
      "PURCHASING ANALYSIS\n",
      "-------------------\n",
      "Total number of players is 576\n",
      "Number of items is 179\n",
      "Average price is $$3.05\n",
      "Total purchase is 780\n",
      "Total revenue is $$2,379.77\n",
      "__________________________________________________________________________________\n",
      "GENDER DEMOGRAPHICS\n",
      "-------------------\n",
      "Total number of male players is 484 (84.03%)\n",
      "Total number of female players is 81 (14.06%)\n",
      "Total number of unknown gender is 11 (2.60%)\n",
      "__________________________________________________________________________________\n",
      "PURCHASING ANALYSIS(GENDER)\n",
      "---------------------------\n",
      "Total purchase by male players is 652\n",
      "Average purchase price per male player is $3.0178527607361953\n",
      "Total revenue from male players is $1967.64\n",
      "Average purchase per male players is 4.065371900826444 games\n",
      "---------------------------\n",
      "Total purchase by female players is 113\n",
      "Average purchase price per female player is $3.203008849557519\n",
      "Total revenue from female players is $361.94\n",
      "Average purchase per female players is 4.4683950617283905 games\n",
      "---------------------------\n",
      "Total purchase by unknown players is 15\n",
      "Average purchase price per unknown player is $3.3460000000000005\n",
      "Total revenue from unknown players is $50.19\n",
      "Average purchase per unknown players is 4.562727272727273 games\n"
     ]
    }
   ],
   "source": [
    "print(\"PURCHASING ANALYSIS\")\n",
    "print(\"-------------------\")\n",
    "print(\"Total number of players is \" + str(total_player))\n",
    "print(\"Number of items is \" + str(total_game))\n",
    "print(\"Average price is $\" + str(avr_price))\n",
    "print(\"Total purchase is \" + str(pmoli_purchase))\n",
    "print(\"Total revenue is $\" + str(pmoli_revenue))\n",
    "print(\"__________________________________________________________________________________\")\n",
    "print(\"GENDER DEMOGRAPHICS\")\n",
    "print(\"-------------------\")\n",
    "print(\"Total number of male players is \" + str(male_player) + \" (\" + percent_male + \"%)\")\n",
    "print(\"Total number of female players is \" + str(female_player) + \" (\" + percent_female + \"%)\")\n",
    "print(\"Total number of unknown gender is \" + str(unknown_player) + \" (\" + percent_unknown + \"%)\")\n",
    "print(\"__________________________________________________________________________________\")\n",
    "print(\"PURCHASING ANALYSIS(GENDER)\")\n",
    "print(\"---------------------------\")\n",
    "print(\"Total purchase by male players is \" + str(male_purchase))\n",
    "print(\"Average purchase price per male player is $\" + str(male_avr))\n",
    "print(\"Total revenue from male players is $\" + str(male_revenue))\n",
    "print(\"Average purchase per male players is \" + str(avr_pur_male) + \" games\")\n",
    "print(\"---------------------------\")\n",
    "print(\"Total purchase by female players is \" + str(female_purchase))\n",
    "print(\"Average purchase price per female player is $\" + str(female_avr))\n",
    "print(\"Total revenue from female players is $\" + str(female_revenue))\n",
    "print(\"Average purchase per female players is \" + str(avr_pur_female) + \" games\")\n",
    "print(\"---------------------------\")\n",
    "print(\"Total purchase by unknown players is \" + str(unknown_purchase))\n",
    "print(\"Average purchase price per unknown player is $\" + str(unknown_avr))\n",
    "print(\"Total revenue from unknown players is $\" + str(unknown_revenue))\n",
    "print(\"Average purchase per unknown players is \" + str(avr_pur_unknown) + \" games\")"
   ]
  },
  {
   "cell_type": "code",
   "execution_count": null,
   "metadata": {},
   "outputs": [],
   "source": []
  }
 ],
 "metadata": {
  "kernelspec": {
   "display_name": "Python 3",
   "language": "python",
   "name": "python3"
  },
  "language_info": {
   "codemirror_mode": {
    "name": "ipython",
    "version": 3
   },
   "file_extension": ".py",
   "mimetype": "text/x-python",
   "name": "python",
   "nbconvert_exporter": "python",
   "pygments_lexer": "ipython3",
   "version": "3.8.5"
  }
 },
 "nbformat": 4,
 "nbformat_minor": 4
}
